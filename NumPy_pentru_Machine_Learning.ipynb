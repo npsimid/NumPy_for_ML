{
 "cells": [
  {
   "cell_type": "code",
   "execution_count": 21,
   "id": "38231407",
   "metadata": {},
   "outputs": [],
   "source": [
    "# importul bibliotecilor\n",
    "import numpy as np\n",
    "import pandas as pd"
   ]
  },
  {
   "cell_type": "markdown",
   "id": "7fcb28d3",
   "metadata": {},
   "source": [
    "# 1. Tipuri de date si atribute"
   ]
  },
  {
   "cell_type": "markdown",
   "id": "570c8677",
   "metadata": {},
   "source": [
    "### 1.1. Tipuri de date NumPy\n",
    "#### Principalul tip de date in NumPy este tipul ndarray"
   ]
  },
  {
   "cell_type": "code",
   "execution_count": 2,
   "id": "67458598",
   "metadata": {},
   "outputs": [],
   "source": [
    "# crearea unui array unidimensional\n",
    "a1 = np.array([1, 2, 3])"
   ]
  },
  {
   "cell_type": "code",
   "execution_count": 3,
   "id": "e57eedd8",
   "metadata": {},
   "outputs": [
    {
     "data": {
      "text/plain": [
       "array([1, 2, 3])"
      ]
     },
     "execution_count": 3,
     "metadata": {},
     "output_type": "execute_result"
    }
   ],
   "source": [
    "# vizualizarea lui a1\n",
    "a1"
   ]
  },
  {
   "cell_type": "code",
   "execution_count": 4,
   "id": "a689161a",
   "metadata": {},
   "outputs": [
    {
     "data": {
      "text/plain": [
       "array([[1. , 2. , 3.3],\n",
       "       [4. , 5. , 6.5]])"
      ]
     },
     "execution_count": 4,
     "metadata": {},
     "output_type": "execute_result"
    }
   ],
   "source": [
    "# crearea unui array bidimensional\n",
    "a2 = np.array([[1, 2.0, 3.3],\n",
    "               [4, 5, 6.5]])\n",
    "a2"
   ]
  },
  {
   "cell_type": "code",
   "execution_count": 5,
   "id": "8f6ba638",
   "metadata": {},
   "outputs": [
    {
     "data": {
      "text/plain": [
       "array([[[ 1,  2,  3],\n",
       "        [ 4,  5,  6]],\n",
       "\n",
       "       [[ 7,  8,  9],\n",
       "        [10, 11, 12]],\n",
       "\n",
       "       [[13, 14, 15],\n",
       "        [16, 17, 18]]])"
      ]
     },
     "execution_count": 5,
     "metadata": {},
     "output_type": "execute_result"
    }
   ],
   "source": [
    "# crearea unui array tridimensional\n",
    "a3 = np.array([[[1, 2, 3],\n",
    "                [4, 5, 6]],\n",
    "               [[7, 8, 9],\n",
    "                [10, 11, 12]],\n",
    "               [[13, 14, 15],\n",
    "                [16, 17, 18]]])\n",
    "a3"
   ]
  },
  {
   "cell_type": "markdown",
   "id": "0f19c463",
   "metadata": {},
   "source": [
    "### 1.2. Atributele elementelor de tip ndarray\n",
    "#### 1.2.1. Forma ndarray - `.shape`"
   ]
  },
  {
   "cell_type": "code",
   "execution_count": 6,
   "id": "e6fb00fc",
   "metadata": {},
   "outputs": [
    {
     "data": {
      "text/plain": [
       "(3,)"
      ]
     },
     "execution_count": 6,
     "metadata": {},
     "output_type": "execute_result"
    }
   ],
   "source": [
    "# vizualizarea formei lui a1\n",
    "a1.shape"
   ]
  },
  {
   "cell_type": "code",
   "execution_count": 7,
   "id": "ebc57dfa",
   "metadata": {},
   "outputs": [
    {
     "data": {
      "text/plain": [
       "(2, 3)"
      ]
     },
     "execution_count": 7,
     "metadata": {},
     "output_type": "execute_result"
    }
   ],
   "source": [
    "# vizualizarea formei lui a2\n",
    "a2.shape"
   ]
  },
  {
   "cell_type": "code",
   "execution_count": 8,
   "id": "147f64be",
   "metadata": {},
   "outputs": [
    {
     "data": {
      "text/plain": [
       "(3, 2, 3)"
      ]
     },
     "execution_count": 8,
     "metadata": {},
     "output_type": "execute_result"
    }
   ],
   "source": [
    "# vizualizarea formei lui a3\n",
    "a3.shape"
   ]
  },
  {
   "cell_type": "markdown",
   "id": "bec44b55",
   "metadata": {},
   "source": [
    "#### 1.2.2. Numarul dimensiunii - `.ndim`"
   ]
  },
  {
   "cell_type": "code",
   "execution_count": 9,
   "id": "c089d080",
   "metadata": {},
   "outputs": [
    {
     "data": {
      "text/plain": [
       "1"
      ]
     },
     "execution_count": 9,
     "metadata": {},
     "output_type": "execute_result"
    }
   ],
   "source": [
    "# vizualizarea numarului de dimensiuni pentru a1\n",
    "a1.ndim"
   ]
  },
  {
   "cell_type": "code",
   "execution_count": 10,
   "id": "8c8ca341",
   "metadata": {},
   "outputs": [
    {
     "data": {
      "text/plain": [
       "2"
      ]
     },
     "execution_count": 10,
     "metadata": {},
     "output_type": "execute_result"
    }
   ],
   "source": [
    "# vizualizarea numarului de dimensiuni pentru a2\n",
    "a2.ndim"
   ]
  },
  {
   "cell_type": "code",
   "execution_count": 11,
   "id": "8a4b44e1",
   "metadata": {},
   "outputs": [
    {
     "data": {
      "text/plain": [
       "3"
      ]
     },
     "execution_count": 11,
     "metadata": {},
     "output_type": "execute_result"
    }
   ],
   "source": [
    "# vizualizarea numarului de dimensiuni pentru a3\n",
    "a3.ndim"
   ]
  },
  {
   "cell_type": "markdown",
   "id": "9487ec23",
   "metadata": {},
   "source": [
    "#### 1.2.3. Tipul elementelor componente - `.dtype`"
   ]
  },
  {
   "cell_type": "code",
   "execution_count": 12,
   "id": "2e12f401",
   "metadata": {},
   "outputs": [
    {
     "data": {
      "text/plain": [
       "dtype('int32')"
      ]
     },
     "execution_count": 12,
     "metadata": {},
     "output_type": "execute_result"
    }
   ],
   "source": [
    "# determinarea tipului elementelor lui a1\n",
    "a1.dtype"
   ]
  },
  {
   "cell_type": "code",
   "execution_count": 13,
   "id": "80bf0110",
   "metadata": {},
   "outputs": [
    {
     "data": {
      "text/plain": [
       "dtype('float64')"
      ]
     },
     "execution_count": 13,
     "metadata": {},
     "output_type": "execute_result"
    }
   ],
   "source": [
    "# determinarea tipului elementelor lui a2\n",
    "a2.dtype"
   ]
  },
  {
   "cell_type": "code",
   "execution_count": 14,
   "id": "c97003e7",
   "metadata": {},
   "outputs": [
    {
     "data": {
      "text/plain": [
       "dtype('int32')"
      ]
     },
     "execution_count": 14,
     "metadata": {},
     "output_type": "execute_result"
    }
   ],
   "source": [
    "# determinarea tipului elementelor lui a3\n",
    "a3.dtype"
   ]
  },
  {
   "cell_type": "markdown",
   "id": "9018acbc",
   "metadata": {},
   "source": [
    "#### 1.2.4. Numarul elementelor componente - `.size`"
   ]
  },
  {
   "cell_type": "code",
   "execution_count": 15,
   "id": "068ad8c9",
   "metadata": {},
   "outputs": [
    {
     "data": {
      "text/plain": [
       "3"
      ]
     },
     "execution_count": 15,
     "metadata": {},
     "output_type": "execute_result"
    }
   ],
   "source": [
    "# determinarea numarului de elemente in a1\n",
    "a1.size"
   ]
  },
  {
   "cell_type": "code",
   "execution_count": 16,
   "id": "95ae7fa4",
   "metadata": {},
   "outputs": [
    {
     "data": {
      "text/plain": [
       "6"
      ]
     },
     "execution_count": 16,
     "metadata": {},
     "output_type": "execute_result"
    }
   ],
   "source": [
    "# determinarea numarului de elemente in a2\n",
    "a2.size"
   ]
  },
  {
   "cell_type": "code",
   "execution_count": 17,
   "id": "4410c1a8",
   "metadata": {},
   "outputs": [
    {
     "data": {
      "text/plain": [
       "18"
      ]
     },
     "execution_count": 17,
     "metadata": {},
     "output_type": "execute_result"
    }
   ],
   "source": [
    "# determinarea numarului de elemente in a3\n",
    "a3.size"
   ]
  },
  {
   "cell_type": "markdown",
   "id": "5d2d233c",
   "metadata": {},
   "source": [
    "#### 1.2.5. Tipul array - `type()`"
   ]
  },
  {
   "cell_type": "code",
   "execution_count": 18,
   "id": "83f12b9e",
   "metadata": {},
   "outputs": [
    {
     "data": {
      "text/plain": [
       "numpy.ndarray"
      ]
     },
     "execution_count": 18,
     "metadata": {},
     "output_type": "execute_result"
    }
   ],
   "source": [
    "# determinarea tipului lui a1\n",
    "type(a1)"
   ]
  },
  {
   "cell_type": "code",
   "execution_count": 19,
   "id": "f65cea61",
   "metadata": {},
   "outputs": [
    {
     "data": {
      "text/plain": [
       "numpy.ndarray"
      ]
     },
     "execution_count": 19,
     "metadata": {},
     "output_type": "execute_result"
    }
   ],
   "source": [
    "# determinarea tipului lui a2\n",
    "type(a2)"
   ]
  },
  {
   "cell_type": "code",
   "execution_count": 20,
   "id": "8287b8e9",
   "metadata": {},
   "outputs": [
    {
     "data": {
      "text/plain": [
       "numpy.ndarray"
      ]
     },
     "execution_count": 20,
     "metadata": {},
     "output_type": "execute_result"
    }
   ],
   "source": [
    "# determinarea tipului lui a3\n",
    "type(a3)"
   ]
  },
  {
   "cell_type": "markdown",
   "id": "f20a71a6",
   "metadata": {},
   "source": [
    "### 1.3. Transformarea unui array in dataframe"
   ]
  },
  {
   "cell_type": "code",
   "execution_count": 22,
   "id": "ecaac201",
   "metadata": {},
   "outputs": [
    {
     "data": {
      "text/html": [
       "<div>\n",
       "<style scoped>\n",
       "    .dataframe tbody tr th:only-of-type {\n",
       "        vertical-align: middle;\n",
       "    }\n",
       "\n",
       "    .dataframe tbody tr th {\n",
       "        vertical-align: top;\n",
       "    }\n",
       "\n",
       "    .dataframe thead th {\n",
       "        text-align: right;\n",
       "    }\n",
       "</style>\n",
       "<table border=\"1\" class=\"dataframe\">\n",
       "  <thead>\n",
       "    <tr style=\"text-align: right;\">\n",
       "      <th></th>\n",
       "      <th>0</th>\n",
       "      <th>1</th>\n",
       "      <th>2</th>\n",
       "    </tr>\n",
       "  </thead>\n",
       "  <tbody>\n",
       "    <tr>\n",
       "      <th>0</th>\n",
       "      <td>1.0</td>\n",
       "      <td>2.0</td>\n",
       "      <td>3.3</td>\n",
       "    </tr>\n",
       "    <tr>\n",
       "      <th>1</th>\n",
       "      <td>4.0</td>\n",
       "      <td>5.0</td>\n",
       "      <td>6.5</td>\n",
       "    </tr>\n",
       "  </tbody>\n",
       "</table>\n",
       "</div>"
      ],
      "text/plain": [
       "     0    1    2\n",
       "0  1.0  2.0  3.3\n",
       "1  4.0  5.0  6.5"
      ]
     },
     "execution_count": 22,
     "metadata": {},
     "output_type": "execute_result"
    }
   ],
   "source": [
    "df = pd.DataFrame(a2)\n",
    "df"
   ]
  },
  {
   "cell_type": "markdown",
   "id": "7d0d4299",
   "metadata": {},
   "source": [
    "# 2. Crearea unui array NumPy"
   ]
  },
  {
   "cell_type": "markdown",
   "id": "ee0b79b3",
   "metadata": {},
   "source": [
    "### 2.1. Crearea unui array cu ajutorul listelor"
   ]
  },
  {
   "cell_type": "code",
   "execution_count": 26,
   "id": "1bd07324",
   "metadata": {},
   "outputs": [
    {
     "data": {
      "text/plain": [
       "([6, 2, 8, 4], [7, 9, 3, 5])"
      ]
     },
     "execution_count": 26,
     "metadata": {},
     "output_type": "execute_result"
    }
   ],
   "source": [
    "# se creaza 2 liste Python\n",
    "lt1 = [6, 2, 8, 4]\n",
    "lt2 = [7, 9, 3, 5]\n",
    "lt1, lt2"
   ]
  },
  {
   "cell_type": "code",
   "execution_count": 27,
   "id": "081d02de",
   "metadata": {},
   "outputs": [
    {
     "data": {
      "text/plain": [
       "array([6, 2, 8, 4])"
      ]
     },
     "execution_count": 27,
     "metadata": {},
     "output_type": "execute_result"
    }
   ],
   "source": [
    "# se creaza un array unidimensional din lt1\n",
    "ar1=np.array(lt1)\n",
    "ar1"
   ]
  },
  {
   "cell_type": "code",
   "execution_count": 29,
   "id": "7321257c",
   "metadata": {},
   "outputs": [
    {
     "data": {
      "text/plain": [
       "array([[6, 2, 8, 4],\n",
       "       [7, 9, 3, 5]])"
      ]
     },
     "execution_count": 29,
     "metadata": {},
     "output_type": "execute_result"
    }
   ],
   "source": [
    "# se creaza un array bidimensional din lt1 si lt2\n",
    "ar2=np.array([lt1,lt2])\n",
    "ar2"
   ]
  },
  {
   "cell_type": "markdown",
   "id": "13c87c91",
   "metadata": {},
   "source": [
    "### 2.2. Crearea unui array din elemente 1 sau 0"
   ]
  },
  {
   "cell_type": "code",
   "execution_count": 101,
   "id": "0968b52f",
   "metadata": {},
   "outputs": [
    {
     "data": {
      "text/plain": [
       "(3, 5)"
      ]
     },
     "execution_count": 101,
     "metadata": {},
     "output_type": "execute_result"
    }
   ],
   "source": [
    "# se creaza o variabila ce specifica forma array\n",
    "sp = (3,5)\n",
    "sp"
   ]
  },
  {
   "cell_type": "code",
   "execution_count": 102,
   "id": "9a190531",
   "metadata": {},
   "outputs": [
    {
     "data": {
      "text/plain": [
       "array([[1., 1., 1., 1., 1.],\n",
       "       [1., 1., 1., 1., 1.],\n",
       "       [1., 1., 1., 1., 1.]])"
      ]
     },
     "execution_count": 102,
     "metadata": {},
     "output_type": "execute_result"
    }
   ],
   "source": [
    "# se creaza un array doar din elemente 1\n",
    "ar3 = np.ones(sp)\n",
    "ar3"
   ]
  },
  {
   "cell_type": "code",
   "execution_count": 103,
   "id": "3f795fa4",
   "metadata": {},
   "outputs": [
    {
     "data": {
      "text/plain": [
       "array([[0., 0., 0., 0., 0.],\n",
       "       [0., 0., 0., 0., 0.],\n",
       "       [0., 0., 0., 0., 0.]])"
      ]
     },
     "execution_count": 103,
     "metadata": {},
     "output_type": "execute_result"
    }
   ],
   "source": [
    "# se creaza un array doar din elemente 0\n",
    "ar4 = np.zeros(sp)\n",
    "ar4"
   ]
  },
  {
   "cell_type": "markdown",
   "id": "d41958b3",
   "metadata": {},
   "source": [
    "### 2.3. Crearea unui array cu elemente dintr-un interval"
   ]
  },
  {
   "cell_type": "code",
   "execution_count": 35,
   "id": "cfc65c83",
   "metadata": {},
   "outputs": [
    {
     "data": {
      "text/plain": [
       "array([0, 1, 2, 3, 4, 5, 6, 7, 8, 9])"
      ]
     },
     "execution_count": 35,
     "metadata": {},
     "output_type": "execute_result"
    }
   ],
   "source": [
    "# se creaza un array unidimensional cu elementele intregi de la 0 la 9\n",
    "ar5 =  np.arange(10)\n",
    "ar5"
   ]
  },
  {
   "cell_type": "code",
   "execution_count": 36,
   "id": "d6a74baf",
   "metadata": {},
   "outputs": [
    {
     "data": {
      "text/plain": [
       "array([5, 6, 7, 8, 9])"
      ]
     },
     "execution_count": 36,
     "metadata": {},
     "output_type": "execute_result"
    }
   ],
   "source": [
    "# se creaza un array unidimensional cu elementele intregi de la 5 la 9\n",
    "ar6 =  np.arange(5, 10)\n",
    "ar6"
   ]
  },
  {
   "cell_type": "code",
   "execution_count": 37,
   "id": "4e03c04b",
   "metadata": {},
   "outputs": [
    {
     "data": {
      "text/plain": [
       "array([4, 6, 8])"
      ]
     },
     "execution_count": 37,
     "metadata": {},
     "output_type": "execute_result"
    }
   ],
   "source": [
    "# se creaza un array unidimensional cu elementele intregi de la 4 la 9 luate cu pasul 2\n",
    "ar7 =  np.arange(4, 10, 2)\n",
    "ar7"
   ]
  },
  {
   "cell_type": "markdown",
   "id": "c0b85c62",
   "metadata": {},
   "source": [
    "### 2.4. Crearea unui array cu elemente random"
   ]
  },
  {
   "cell_type": "code",
   "execution_count": 104,
   "id": "81b27b83",
   "metadata": {},
   "outputs": [
    {
     "data": {
      "text/plain": [
       "array([[5, 5, 7, 5, 8],\n",
       "       [9, 3, 2, 2, 3],\n",
       "       [9, 2, 7, 5, 4]])"
      ]
     },
     "execution_count": 104,
     "metadata": {},
     "output_type": "execute_result"
    }
   ],
   "source": [
    "# se creaza un array bidimensional cu elementele random intregi de la 2 la 9\n",
    "ar8 =  np.random.randint(2, 10, size=sp)\n",
    "ar8"
   ]
  },
  {
   "cell_type": "code",
   "execution_count": 105,
   "id": "fa86ba22",
   "metadata": {},
   "outputs": [
    {
     "data": {
      "text/plain": [
       "array([[0.079316  , 0.06766956, 0.49097967, 0.20946683, 0.92522345],\n",
       "       [0.98061055, 0.66963061, 0.58175139, 0.79431745, 0.04670004],\n",
       "       [0.58026021, 0.07451129, 0.16007004, 0.43488873, 0.59376418]])"
      ]
     },
     "execution_count": 105,
     "metadata": {},
     "output_type": "execute_result"
    }
   ],
   "source": [
    "# se creaza un array bidimensional cu elementele random float de la 0 la 0,999...\n",
    "ar9 =  np.random.random(sp)\n",
    "ar9"
   ]
  },
  {
   "cell_type": "code",
   "execution_count": 43,
   "id": "515e2aa8",
   "metadata": {},
   "outputs": [
    {
     "data": {
      "text/plain": [
       "array([[[0.69615431, 0.6308812 , 0.30878104, 0.07752817, 0.59377636],\n",
       "        [0.62473911, 0.9669843 , 0.35940954, 0.09028768, 0.29817828],\n",
       "        [0.96203645, 0.52321626, 0.72639501, 0.50117861, 0.19708768],\n",
       "        [0.81551691, 0.87542428, 0.64359532, 0.88718885, 0.61950226]],\n",
       "\n",
       "       [[0.92555634, 0.6499454 , 0.9608929 , 0.36543233, 0.21517459],\n",
       "        [0.76141817, 0.66780822, 0.63661828, 0.25300245, 0.81364713],\n",
       "        [0.41096415, 0.98691844, 0.18878282, 0.20240595, 0.73303543],\n",
       "        [0.17480585, 0.14338244, 0.79320081, 0.23380053, 0.17598422]]])"
      ]
     },
     "execution_count": 43,
     "metadata": {},
     "output_type": "execute_result"
    }
   ],
   "source": [
    "# se creaza un array n-dimensional cu elementele random float de la 0 la 0,999...\n",
    "ar10 =  np.random.rand(2, 4, 5)\n",
    "ar10"
   ]
  },
  {
   "cell_type": "markdown",
   "id": "fe978994",
   "metadata": {},
   "source": [
    "### 2.5. Setarea elementelor pseudo-random"
   ]
  },
  {
   "cell_type": "code",
   "execution_count": 96,
   "id": "5a86726e",
   "metadata": {},
   "outputs": [
    {
     "data": {
      "text/plain": [
       "array([[0.67781654, 0.27000797, 0.73519402, 0.96218855, 0.24875314],\n",
       "       [0.57615733, 0.59204193, 0.57225191, 0.22308163, 0.95274901],\n",
       "       [0.44712538, 0.84640867, 0.69947928, 0.29743695, 0.81379782],\n",
       "       [0.39650574, 0.8811032 , 0.58127287, 0.88173536, 0.69253159]])"
      ]
     },
     "execution_count": 96,
     "metadata": {},
     "output_type": "execute_result"
    }
   ],
   "source": [
    "# se creaza un array cu elementele random\n",
    "ar11=np.random.random((4,5))\n",
    "ar11"
   ]
  },
  {
   "cell_type": "code",
   "execution_count": 97,
   "id": "17fbaae1",
   "metadata": {},
   "outputs": [
    {
     "data": {
      "text/plain": [
       "array([[0.72525428, 0.50132438, 0.95608363, 0.6439902 , 0.42385505],\n",
       "       [0.60639321, 0.0191932 , 0.30157482, 0.66017354, 0.29007761],\n",
       "       [0.61801543, 0.4287687 , 0.13547406, 0.29828233, 0.56996491],\n",
       "       [0.59087276, 0.57432525, 0.65320082, 0.65210327, 0.43141844]])"
      ]
     },
     "execution_count": 97,
     "metadata": {},
     "output_type": "execute_result"
    }
   ],
   "source": [
    "# se repeta procedura de creare a aceluiasi array\n",
    "ar11=np.random.random((4,5))\n",
    "ar11"
   ]
  },
  {
   "cell_type": "code",
   "execution_count": 98,
   "id": "73a249fd",
   "metadata": {},
   "outputs": [
    {
     "data": {
      "text/plain": [
       "array([[0.01037415, 0.50187459, 0.49577329, 0.13382953, 0.14211109],\n",
       "       [0.21855868, 0.41850818, 0.24810117, 0.08405965, 0.34549864],\n",
       "       [0.16677635, 0.87855909, 0.95096403, 0.03874838, 0.69910739],\n",
       "       [0.57275982, 0.89800712, 0.66689897, 0.54783778, 0.70242742]])"
      ]
     },
     "execution_count": 98,
     "metadata": {},
     "output_type": "execute_result"
    }
   ],
   "source": [
    "# seteaza numerele random sa fie pseudo-random si se repeta procedura\n",
    "np.random.seed(9)\n",
    "ar11=np.random.random((4,5))\n",
    "ar11"
   ]
  },
  {
   "cell_type": "code",
   "execution_count": 100,
   "id": "e59f3426",
   "metadata": {},
   "outputs": [
    {
     "data": {
      "text/plain": [
       "array([[0.01037415, 0.50187459, 0.49577329, 0.13382953, 0.14211109],\n",
       "       [0.21855868, 0.41850818, 0.24810117, 0.08405965, 0.34549864],\n",
       "       [0.16677635, 0.87855909, 0.95096403, 0.03874838, 0.69910739],\n",
       "       [0.57275982, 0.89800712, 0.66689897, 0.54783778, 0.70242742]])"
      ]
     },
     "execution_count": 100,
     "metadata": {},
     "output_type": "execute_result"
    }
   ],
   "source": [
    "# se repeta procedura de creare a aceluiasi array cu pseudo-random\n",
    "np.random.seed(9)\n",
    "ar11=np.random.random((4,5))\n",
    "ar11"
   ]
  },
  {
   "cell_type": "markdown",
   "id": "6634b9f3",
   "metadata": {},
   "source": [
    "# 3. Vizualizarea in array si matrici"
   ]
  },
  {
   "cell_type": "markdown",
   "id": "5c2ccabb",
   "metadata": {},
   "source": [
    "### 3.1. Vizualizarea elementelor unice in array"
   ]
  },
  {
   "cell_type": "code",
   "execution_count": 199,
   "id": "2cd05354",
   "metadata": {},
   "outputs": [
    {
     "data": {
      "text/plain": [
       "array([[5, 5, 7, 5, 8],\n",
       "       [9, 3, 2, 2, 3],\n",
       "       [9, 2, 7, 5, 4]])"
      ]
     },
     "execution_count": 199,
     "metadata": {},
     "output_type": "execute_result"
    }
   ],
   "source": [
    "# se vizualizeaza ar8\n",
    "ar8"
   ]
  },
  {
   "cell_type": "code",
   "execution_count": 109,
   "id": "fa499119",
   "metadata": {},
   "outputs": [
    {
     "data": {
      "text/plain": [
       "array([2, 3, 4, 5, 7, 8, 9])"
      ]
     },
     "execution_count": 109,
     "metadata": {},
     "output_type": "execute_result"
    }
   ],
   "source": [
    "# determinarea elementelor unice in ar8\n",
    "np.unique(ar8)"
   ]
  },
  {
   "cell_type": "markdown",
   "id": "cff1bb08",
   "metadata": {},
   "source": [
    "### 3.2. Selectarea elementelor unui array conform indicelui"
   ]
  },
  {
   "cell_type": "code",
   "execution_count": 111,
   "id": "49298671",
   "metadata": {},
   "outputs": [
    {
     "data": {
      "text/plain": [
       "array([1, 2, 3])"
      ]
     },
     "execution_count": 111,
     "metadata": {},
     "output_type": "execute_result"
    }
   ],
   "source": [
    "# vizualizarea lui a1\n",
    "a1"
   ]
  },
  {
   "cell_type": "code",
   "execution_count": 112,
   "id": "7e16d936",
   "metadata": {},
   "outputs": [
    {
     "data": {
      "text/plain": [
       "2"
      ]
     },
     "execution_count": 112,
     "metadata": {},
     "output_type": "execute_result"
    }
   ],
   "source": [
    "# selectarea elementului de pe pozitia a 2\n",
    "a1[1]"
   ]
  },
  {
   "cell_type": "code",
   "execution_count": 113,
   "id": "a0c78e68",
   "metadata": {},
   "outputs": [
    {
     "data": {
      "text/plain": [
       "array([[1. , 2. , 3.3],\n",
       "       [4. , 5. , 6.5]])"
      ]
     },
     "execution_count": 113,
     "metadata": {},
     "output_type": "execute_result"
    }
   ],
   "source": [
    "# vizualizarea lui a2\n",
    "a2"
   ]
  },
  {
   "cell_type": "code",
   "execution_count": 114,
   "id": "eb9ff7da",
   "metadata": {},
   "outputs": [
    {
     "data": {
      "text/plain": [
       "array([4. , 5. , 6.5])"
      ]
     },
     "execution_count": 114,
     "metadata": {},
     "output_type": "execute_result"
    }
   ],
   "source": [
    "# selectarea elementelor liniei a 2\n",
    "a2[1]"
   ]
  },
  {
   "cell_type": "code",
   "execution_count": 115,
   "id": "7ff2822e",
   "metadata": {},
   "outputs": [
    {
     "data": {
      "text/plain": [
       "4.0"
      ]
     },
     "execution_count": 115,
     "metadata": {},
     "output_type": "execute_result"
    }
   ],
   "source": [
    "# selectarea elementului de pe linia a 2 poztia 1\n",
    "a2[1,0]"
   ]
  },
  {
   "cell_type": "code",
   "execution_count": 116,
   "id": "527b796d",
   "metadata": {},
   "outputs": [
    {
     "data": {
      "text/plain": [
       "array([[[ 1,  2,  3],\n",
       "        [ 4,  5,  6]],\n",
       "\n",
       "       [[ 7,  8,  9],\n",
       "        [10, 11, 12]],\n",
       "\n",
       "       [[13, 14, 15],\n",
       "        [16, 17, 18]]])"
      ]
     },
     "execution_count": 116,
     "metadata": {},
     "output_type": "execute_result"
    }
   ],
   "source": [
    "# vizualizarea lui a3\n",
    "a3"
   ]
  },
  {
   "cell_type": "code",
   "execution_count": 118,
   "id": "47761a89",
   "metadata": {},
   "outputs": [
    {
     "data": {
      "text/plain": [
       "14"
      ]
     },
     "execution_count": 118,
     "metadata": {},
     "output_type": "execute_result"
    }
   ],
   "source": [
    "# selectarea elementului din tabelul 3 linia a 1 pozitia 2\n",
    "a3[2,0,1]"
   ]
  },
  {
   "cell_type": "markdown",
   "id": "33571f3c",
   "metadata": {},
   "source": [
    "### 3.3. Selectarea elementelor unui array folosind slicing"
   ]
  },
  {
   "cell_type": "code",
   "execution_count": 121,
   "id": "020afe56",
   "metadata": {},
   "outputs": [
    {
     "data": {
      "text/plain": [
       "array([1, 2])"
      ]
     },
     "execution_count": 121,
     "metadata": {},
     "output_type": "execute_result"
    }
   ],
   "source": [
    "# selectarea primelor 2 elemente ale lui a1\n",
    "a1[:2]"
   ]
  },
  {
   "cell_type": "code",
   "execution_count": 122,
   "id": "77afb749",
   "metadata": {},
   "outputs": [
    {
     "data": {
      "text/plain": [
       "array([[1.],\n",
       "       [4.]])"
      ]
     },
     "execution_count": 122,
     "metadata": {},
     "output_type": "execute_result"
    }
   ],
   "source": [
    "# selectarea primelor elemente din priele 2 linie al lui a2\n",
    "a2[:2,:1]"
   ]
  },
  {
   "cell_type": "code",
   "execution_count": 123,
   "id": "e220baa3",
   "metadata": {},
   "outputs": [
    {
     "data": {
      "text/plain": [
       "array([[[1, 2]],\n",
       "\n",
       "       [[7, 8]]])"
      ]
     },
     "execution_count": 123,
     "metadata": {},
     "output_type": "execute_result"
    }
   ],
   "source": [
    "# selectarea primelor 2 elemente din primele linii al primelor 2 tabele\n",
    "a3[:2,:1,:2]"
   ]
  },
  {
   "cell_type": "markdown",
   "id": "da1c0427",
   "metadata": {},
   "source": [
    "# 4. Manipularea si compararea array"
   ]
  },
  {
   "cell_type": "markdown",
   "id": "e7902fa4",
   "metadata": {},
   "source": [
    "### 4.1. Operatii aritmetice \"element cu element\""
   ]
  },
  {
   "cell_type": "code",
   "execution_count": 124,
   "id": "0dd4e641",
   "metadata": {},
   "outputs": [
    {
     "data": {
      "text/plain": [
       "array([1, 2, 3])"
      ]
     },
     "execution_count": 124,
     "metadata": {},
     "output_type": "execute_result"
    }
   ],
   "source": [
    "# Vizualizarea a1\n",
    "a1"
   ]
  },
  {
   "cell_type": "code",
   "execution_count": 125,
   "id": "79f69f75",
   "metadata": {},
   "outputs": [
    {
     "data": {
      "text/plain": [
       "array([7, 9, 3])"
      ]
     },
     "execution_count": 125,
     "metadata": {},
     "output_type": "execute_result"
    }
   ],
   "source": [
    "# creara unui array unidimensional\n",
    "a4 = np.array([7, 9, 3])\n",
    "a4"
   ]
  },
  {
   "cell_type": "code",
   "execution_count": 126,
   "id": "9f7efa8c",
   "metadata": {},
   "outputs": [
    {
     "data": {
      "text/plain": [
       "array([ 8, 11,  6])"
      ]
     },
     "execution_count": 126,
     "metadata": {},
     "output_type": "execute_result"
    }
   ],
   "source": [
    "# Sumarea a1 ai a4 si formarea a5\n",
    "a5 = a1 + a4\n",
    "a5"
   ]
  },
  {
   "cell_type": "code",
   "execution_count": 141,
   "id": "379d17a3",
   "metadata": {},
   "outputs": [
    {
     "data": {
      "text/plain": [
       "array([ 8, 11,  6])"
      ]
     },
     "execution_count": 141,
     "metadata": {},
     "output_type": "execute_result"
    }
   ],
   "source": [
    "# Sumarea a1 ai a4 si folosind functia np.add()\n",
    "a5 = np.add(a1, a4)\n",
    "a5"
   ]
  },
  {
   "cell_type": "code",
   "execution_count": 128,
   "id": "cd062075",
   "metadata": {},
   "outputs": [
    {
     "data": {
      "text/plain": [
       "array([6, 7, 0])"
      ]
     },
     "execution_count": 128,
     "metadata": {},
     "output_type": "execute_result"
    }
   ],
   "source": [
    "# Scaderea lui a1 din a4 si formarea a6\n",
    "a6 = a4 - a1\n",
    "a6"
   ]
  },
  {
   "cell_type": "code",
   "execution_count": 131,
   "id": "cdccaf24",
   "metadata": {},
   "outputs": [
    {
     "data": {
      "text/plain": [
       "array([ 6, 14,  0])"
      ]
     },
     "execution_count": 131,
     "metadata": {},
     "output_type": "execute_result"
    }
   ],
   "source": [
    "# Imultirea a1 cu a6 si formarea a7\n",
    "a7 = a1 * a6\n",
    "a7"
   ]
  },
  {
   "cell_type": "code",
   "execution_count": 133,
   "id": "f9e8061c",
   "metadata": {},
   "outputs": [
    {
     "data": {
      "text/plain": [
       "array([[1. , 2. , 3.3],\n",
       "       [4. , 5. , 6.5]])"
      ]
     },
     "execution_count": 133,
     "metadata": {},
     "output_type": "execute_result"
    }
   ],
   "source": [
    "# Vizualizarea a2\n",
    "a2"
   ]
  },
  {
   "cell_type": "code",
   "execution_count": 134,
   "id": "b6a95c95",
   "metadata": {},
   "outputs": [
    {
     "data": {
      "text/plain": [
       "array([[ 6., 14.,  0.],\n",
       "       [24., 35.,  0.]])"
      ]
     },
     "execution_count": 134,
     "metadata": {},
     "output_type": "execute_result"
    }
   ],
   "source": [
    "# Imultirea a2 cu a6 si formarea a8\n",
    "a8 = a2 * a6\n",
    "a8"
   ]
  },
  {
   "cell_type": "code",
   "execution_count": 137,
   "id": "dd4a8681",
   "metadata": {},
   "outputs": [
    {
     "data": {
      "text/plain": [
       "array([8. , 5.5, 2. ])"
      ]
     },
     "execution_count": 137,
     "metadata": {},
     "output_type": "execute_result"
    }
   ],
   "source": [
    "# Impartirea a5 la a1 si formarea a9\n",
    "a9 = a5 / a1\n",
    "a9"
   ]
  },
  {
   "cell_type": "code",
   "execution_count": 138,
   "id": "dd20f1df",
   "metadata": {},
   "outputs": [
    {
     "data": {
      "text/plain": [
       "array([8, 5, 2], dtype=int32)"
      ]
     },
     "execution_count": 138,
     "metadata": {},
     "output_type": "execute_result"
    }
   ],
   "source": [
    "# Impartirea cu rotungire a5 la a1 si formarea a10\n",
    "a10 = a5 // a1\n",
    "a10"
   ]
  },
  {
   "cell_type": "code",
   "execution_count": 139,
   "id": "4ec77a10",
   "metadata": {},
   "outputs": [
    {
     "data": {
      "text/plain": [
       "array([[ 1.  ,  4.  , 10.89],\n",
       "       [16.  , 25.  , 42.25]])"
      ]
     },
     "execution_count": 139,
     "metadata": {},
     "output_type": "execute_result"
    }
   ],
   "source": [
    "# Ridicarea lui a2 la patrat\n",
    "a11 = a2 **2\n",
    "a11"
   ]
  },
  {
   "cell_type": "code",
   "execution_count": 140,
   "id": "1928b317",
   "metadata": {},
   "outputs": [
    {
     "data": {
      "text/plain": [
       "array([[ 1.  ,  4.  , 10.89],\n",
       "       [16.  , 25.  , 42.25]])"
      ]
     },
     "execution_count": 140,
     "metadata": {},
     "output_type": "execute_result"
    }
   ],
   "source": [
    "# Ridicarea lui a2 la patrat utilizand functia np.square()\n",
    "a12=np.square(a2)\n",
    "a12"
   ]
  },
  {
   "cell_type": "code",
   "execution_count": 142,
   "id": "4375b1d2",
   "metadata": {},
   "outputs": [
    {
     "data": {
      "text/plain": [
       "array([[1. , 0. , 1.3],\n",
       "       [0. , 1. , 0.5]])"
      ]
     },
     "execution_count": 142,
     "metadata": {},
     "output_type": "execute_result"
    }
   ],
   "source": [
    "# Determinarea restului divizarii lui a2 la 2\n",
    "a13 = a2 % 2\n",
    "a13"
   ]
  },
  {
   "cell_type": "code",
   "execution_count": 143,
   "id": "d4d378ee",
   "metadata": {},
   "outputs": [
    {
     "data": {
      "text/plain": [
       "array([ 2.71828183,  7.3890561 , 20.08553692])"
      ]
     },
     "execution_count": 143,
     "metadata": {},
     "output_type": "execute_result"
    }
   ],
   "source": [
    "# Determinarea exponentei lui a1\n",
    "a14 = np.exp(a1)\n",
    "a14"
   ]
  },
  {
   "cell_type": "code",
   "execution_count": 146,
   "id": "90d8dda9",
   "metadata": {},
   "outputs": [
    {
     "data": {
      "text/plain": [
       "array([0.        , 0.69314718, 1.09861229])"
      ]
     },
     "execution_count": 146,
     "metadata": {},
     "output_type": "execute_result"
    }
   ],
   "source": [
    "# Determinarea logaritmului natural al lui a1\n",
    "a15 = np.log(a1)\n",
    "a15"
   ]
  },
  {
   "cell_type": "markdown",
   "id": "d92df105",
   "metadata": {},
   "source": [
    "### 4.2. Operatii de agregare"
   ]
  },
  {
   "cell_type": "code",
   "execution_count": 149,
   "id": "ecba585f",
   "metadata": {},
   "outputs": [
    {
     "data": {
      "text/plain": [
       "array([8, 5, 2], dtype=int32)"
      ]
     },
     "execution_count": 149,
     "metadata": {},
     "output_type": "execute_result"
    }
   ],
   "source": [
    "# vizualizare lui a10\n",
    "a10"
   ]
  },
  {
   "cell_type": "code",
   "execution_count": 150,
   "id": "ff91d03a",
   "metadata": {},
   "outputs": [
    {
     "data": {
      "text/plain": [
       "15"
      ]
     },
     "execution_count": 150,
     "metadata": {},
     "output_type": "execute_result"
    }
   ],
   "source": [
    "# Determinarea sumei tuturor elemtelor cu functia sum() din python\n",
    "sum(a10)"
   ]
  },
  {
   "cell_type": "code",
   "execution_count": 151,
   "id": "389e05af",
   "metadata": {},
   "outputs": [
    {
     "data": {
      "text/plain": [
       "15"
      ]
     },
     "execution_count": 151,
     "metadata": {},
     "output_type": "execute_result"
    }
   ],
   "source": [
    "# Determinarea sumei tuturor elemtelor cu functia sum() din numpy\n",
    "np.sum(a10)"
   ]
  },
  {
   "cell_type": "code",
   "execution_count": 152,
   "id": "80915bb1",
   "metadata": {},
   "outputs": [],
   "source": [
    "# crearea unui array imens\n",
    "arr_imens = np.random.random(100000)"
   ]
  },
  {
   "cell_type": "code",
   "execution_count": 153,
   "id": "64355488",
   "metadata": {},
   "outputs": [
    {
     "data": {
      "text/plain": [
       "100000"
      ]
     },
     "execution_count": 153,
     "metadata": {},
     "output_type": "execute_result"
    }
   ],
   "source": [
    "# vizualizarea numarului de elemnte in arr_imens\n",
    "arr_imens.size"
   ]
  },
  {
   "cell_type": "code",
   "execution_count": 154,
   "id": "b5ea7e4e",
   "metadata": {},
   "outputs": [
    {
     "data": {
      "text/plain": [
       "array([0.14015816, 0.89892299, 0.97871952, 0.92973789, 0.39278113,\n",
       "       0.28933945, 0.31675249, 0.98689438, 0.04285168, 0.17011414])"
      ]
     },
     "execution_count": 154,
     "metadata": {},
     "output_type": "execute_result"
    }
   ],
   "source": [
    "# vizualizarea primelor 10 elemente\n",
    "arr_imens[:10]"
   ]
  },
  {
   "cell_type": "code",
   "execution_count": 155,
   "id": "09a9ca01",
   "metadata": {},
   "outputs": [
    {
     "name": "stdout",
     "output_type": "stream",
     "text": [
      "5.37 ms ± 57.8 µs per loop (mean ± std. dev. of 7 runs, 100 loops each)\n"
     ]
    }
   ],
   "source": [
    "# determinarea timpului de executie a operatiei sum() din python cu functia magica %timeit\n",
    "%timeit sum(arr_imens)"
   ]
  },
  {
   "cell_type": "code",
   "execution_count": 156,
   "id": "61575a6b",
   "metadata": {},
   "outputs": [
    {
     "name": "stdout",
     "output_type": "stream",
     "text": [
      "32 µs ± 331 ns per loop (mean ± std. dev. of 7 runs, 10000 loops each)\n"
     ]
    }
   ],
   "source": [
    "# determinarea timpului de executie a operatiei np.sum() din numpy cu functia magica %timeit\n",
    "%timeit np.sum(arr_imens)"
   ]
  },
  {
   "cell_type": "code",
   "execution_count": 157,
   "id": "d5b38619",
   "metadata": {},
   "outputs": [
    {
     "data": {
      "text/plain": [
       "167.8125"
      ]
     },
     "execution_count": 157,
     "metadata": {},
     "output_type": "execute_result"
    }
   ],
   "source": [
    "# determinarea raportului dintre timpul de executie a opertiilor python si numpy\n",
    "5370/32"
   ]
  },
  {
   "cell_type": "code",
   "execution_count": 159,
   "id": "e4550bd7",
   "metadata": {},
   "outputs": [
    {
     "data": {
      "text/plain": [
       "array([[1. , 2. , 3.3],\n",
       "       [4. , 5. , 6.5]])"
      ]
     },
     "execution_count": 159,
     "metadata": {},
     "output_type": "execute_result"
    }
   ],
   "source": [
    "# vizualizare lui a2\n",
    "a2"
   ]
  },
  {
   "cell_type": "code",
   "execution_count": 160,
   "id": "c454f331",
   "metadata": {},
   "outputs": [
    {
     "data": {
      "text/plain": [
       "3.6333333333333333"
      ]
     },
     "execution_count": 160,
     "metadata": {},
     "output_type": "execute_result"
    }
   ],
   "source": [
    "# Determinarea valorii medii a elementelor din a2\n",
    "np.mean(a2)"
   ]
  },
  {
   "cell_type": "code",
   "execution_count": 161,
   "id": "dc125732",
   "metadata": {},
   "outputs": [
    {
     "data": {
      "text/plain": [
       "6.5"
      ]
     },
     "execution_count": 161,
     "metadata": {},
     "output_type": "execute_result"
    }
   ],
   "source": [
    "# Determinarea valorii maxime a elementelor din a2\n",
    "np.max(a2)"
   ]
  },
  {
   "cell_type": "code",
   "execution_count": 162,
   "id": "b805a2ec",
   "metadata": {},
   "outputs": [
    {
     "data": {
      "text/plain": [
       "1.0"
      ]
     },
     "execution_count": 162,
     "metadata": {},
     "output_type": "execute_result"
    }
   ],
   "source": [
    "# Determinarea valorii minime a elementelor din a2\n",
    "np.min(a2)"
   ]
  },
  {
   "cell_type": "code",
   "execution_count": 163,
   "id": "d3612c65",
   "metadata": {},
   "outputs": [
    {
     "data": {
      "text/plain": [
       "1.8226964152656422"
      ]
     },
     "execution_count": 163,
     "metadata": {},
     "output_type": "execute_result"
    }
   ],
   "source": [
    "# Determinarea valorii abaterii medii standart a tuturor elementelor din a2\n",
    "np.std(a2)"
   ]
  },
  {
   "cell_type": "code",
   "execution_count": 164,
   "id": "61d25fcb",
   "metadata": {},
   "outputs": [
    {
     "data": {
      "text/plain": [
       "array([1.5, 1.5, 1.6])"
      ]
     },
     "execution_count": 164,
     "metadata": {},
     "output_type": "execute_result"
    }
   ],
   "source": [
    "# Determinarea valorii abaterii medii standart a elementelor pe coloane in a2\n",
    "np.std(a2, axis=0)"
   ]
  },
  {
   "cell_type": "code",
   "execution_count": 165,
   "id": "ca404fb4",
   "metadata": {},
   "outputs": [
    {
     "data": {
      "text/plain": [
       "array([0.94162979, 1.02740233])"
      ]
     },
     "execution_count": 165,
     "metadata": {},
     "output_type": "execute_result"
    }
   ],
   "source": [
    "# Determinarea valorii abaterii medii standart a elementelor pe linie in a2\n",
    "np.std(a2, axis=1)"
   ]
  },
  {
   "cell_type": "code",
   "execution_count": 166,
   "id": "e1374341",
   "metadata": {},
   "outputs": [
    {
     "data": {
      "text/plain": [
       "3.3222222222222224"
      ]
     },
     "execution_count": 166,
     "metadata": {},
     "output_type": "execute_result"
    }
   ],
   "source": [
    "# Determinarea valorii abaterii medii patratice a tuturor elementelor din a2\n",
    "np.var(a2)"
   ]
  },
  {
   "cell_type": "code",
   "execution_count": 167,
   "id": "b6c3cb98",
   "metadata": {},
   "outputs": [
    {
     "data": {
      "text/plain": [
       "array([0.88666667, 1.05555556])"
      ]
     },
     "execution_count": 167,
     "metadata": {},
     "output_type": "execute_result"
    }
   ],
   "source": [
    "# Determinarea valorii abaterii medii patratice a elementelor pe linie in a2\n",
    "np.var(a2, axis=1)"
   ]
  },
  {
   "cell_type": "code",
   "execution_count": 171,
   "id": "8da9e045",
   "metadata": {},
   "outputs": [
    {
     "data": {
      "text/plain": [
       "1.027402335991115"
      ]
     },
     "execution_count": 171,
     "metadata": {},
     "output_type": "execute_result"
    }
   ],
   "source": [
    "np.sqrt(1.05555556)"
   ]
  },
  {
   "cell_type": "markdown",
   "id": "6d358b32",
   "metadata": {},
   "source": [
    "### 4.3. Modificare formei unui array"
   ]
  },
  {
   "cell_type": "markdown",
   "id": "a606af5d",
   "metadata": {},
   "source": [
    "Cand se realizaza operatii cu doua variabile de tip array, NumPy compara formele acestora, iar pentru aceasta trebuie sa se respecte una din cele 2 reguli\n",
    "* formele trebuie sa fie identice\n",
    "* o dimensiune trebuie sa fie 1"
   ]
  },
  {
   "cell_type": "code",
   "execution_count": 172,
   "id": "28da467f",
   "metadata": {},
   "outputs": [
    {
     "data": {
      "text/plain": [
       "array([[1. , 2. , 3.3],\n",
       "       [4. , 5. , 6.5]])"
      ]
     },
     "execution_count": 172,
     "metadata": {},
     "output_type": "execute_result"
    }
   ],
   "source": [
    "# vizualizarea lui a2\n",
    "a2"
   ]
  },
  {
   "cell_type": "code",
   "execution_count": 173,
   "id": "44830d37",
   "metadata": {},
   "outputs": [
    {
     "data": {
      "text/plain": [
       "(2, 3)"
      ]
     },
     "execution_count": 173,
     "metadata": {},
     "output_type": "execute_result"
    }
   ],
   "source": [
    "# vizualizarea formei lui a2\n",
    "a2.shape"
   ]
  },
  {
   "cell_type": "code",
   "execution_count": 174,
   "id": "3268776a",
   "metadata": {},
   "outputs": [
    {
     "data": {
      "text/plain": [
       "2"
      ]
     },
     "execution_count": 174,
     "metadata": {},
     "output_type": "execute_result"
    }
   ],
   "source": [
    "# vizualizarea numarului dimensiunii lui a2\n",
    "a2.ndim"
   ]
  },
  {
   "cell_type": "code",
   "execution_count": 180,
   "id": "f298f806",
   "metadata": {},
   "outputs": [
    {
     "data": {
      "text/plain": [
       "array([[[ 1,  2,  3],\n",
       "        [ 4,  5,  6]],\n",
       "\n",
       "       [[ 7,  8,  9],\n",
       "        [10, 11, 12]],\n",
       "\n",
       "       [[13, 14, 15],\n",
       "        [16, 17, 18]]])"
      ]
     },
     "execution_count": 180,
     "metadata": {},
     "output_type": "execute_result"
    }
   ],
   "source": [
    "# vizualizarea lui a3\n",
    "a3"
   ]
  },
  {
   "cell_type": "code",
   "execution_count": 181,
   "id": "bb40d3a8",
   "metadata": {},
   "outputs": [
    {
     "data": {
      "text/plain": [
       "(3, 2, 3)"
      ]
     },
     "execution_count": 181,
     "metadata": {},
     "output_type": "execute_result"
    }
   ],
   "source": [
    "# vizualizarea formei lui a3\n",
    "a3.shape"
   ]
  },
  {
   "cell_type": "code",
   "execution_count": 182,
   "id": "99c6da61",
   "metadata": {},
   "outputs": [
    {
     "data": {
      "text/plain": [
       "3"
      ]
     },
     "execution_count": 182,
     "metadata": {},
     "output_type": "execute_result"
    }
   ],
   "source": [
    "# vizualizarea numarului dimensiunii lui a3\n",
    "a3.ndim"
   ]
  },
  {
   "cell_type": "markdown",
   "id": "500f027c",
   "metadata": {},
   "source": [
    "Daca se incerca imultirea a2*a3 se obtine o eroare deoarece formele nu respecta nici una din cele 2 reguli "
   ]
  },
  {
   "cell_type": "code",
   "execution_count": 183,
   "id": "e4f5c2aa",
   "metadata": {},
   "outputs": [
    {
     "data": {
      "text/plain": [
       "array([[[1. , 2. , 3.3],\n",
       "        [4. , 5. , 6.5]]])"
      ]
     },
     "execution_count": 183,
     "metadata": {},
     "output_type": "execute_result"
    }
   ],
   "source": [
    "# modificarea formei lui a2\n",
    "a6 = a2.reshape(1,2,3)\n",
    "a6"
   ]
  },
  {
   "cell_type": "code",
   "execution_count": 184,
   "id": "cc09ff4c",
   "metadata": {},
   "outputs": [
    {
     "data": {
      "text/plain": [
       "(1, 2, 3)"
      ]
     },
     "execution_count": 184,
     "metadata": {},
     "output_type": "execute_result"
    }
   ],
   "source": [
    "# vizualizarea formei lui a6\n",
    "a6.shape"
   ]
  },
  {
   "cell_type": "code",
   "execution_count": 185,
   "id": "8e175a9a",
   "metadata": {},
   "outputs": [
    {
     "data": {
      "text/plain": [
       "3"
      ]
     },
     "execution_count": 185,
     "metadata": {},
     "output_type": "execute_result"
    }
   ],
   "source": [
    "# vizualizarea numarului dimensiunii lui a6\n",
    "a6.ndim"
   ]
  },
  {
   "cell_type": "code",
   "execution_count": 186,
   "id": "96d7c12f",
   "metadata": {},
   "outputs": [
    {
     "data": {
      "text/plain": [
       "array([[[  1. ,   4. ,   9.9],\n",
       "        [ 16. ,  25. ,  39. ]],\n",
       "\n",
       "       [[  7. ,  16. ,  29.7],\n",
       "        [ 40. ,  55. ,  78. ]],\n",
       "\n",
       "       [[ 13. ,  28. ,  49.5],\n",
       "        [ 64. ,  85. , 117. ]]])"
      ]
     },
     "execution_count": 186,
     "metadata": {},
     "output_type": "execute_result"
    }
   ],
   "source": [
    "# se realizeaza operatia de imultirea a2*a3\n",
    "a2*a3"
   ]
  },
  {
   "cell_type": "markdown",
   "id": "a5afad4e",
   "metadata": {},
   "source": [
    "### 4.4. Transpusa  unui array"
   ]
  },
  {
   "cell_type": "code",
   "execution_count": 187,
   "id": "512c574c",
   "metadata": {},
   "outputs": [
    {
     "data": {
      "text/plain": [
       "array([[1. , 2. , 3.3],\n",
       "       [4. , 5. , 6.5]])"
      ]
     },
     "execution_count": 187,
     "metadata": {},
     "output_type": "execute_result"
    }
   ],
   "source": [
    "# vizualizarea lui a2\n",
    "a2"
   ]
  },
  {
   "cell_type": "code",
   "execution_count": 188,
   "id": "47c43f57",
   "metadata": {},
   "outputs": [
    {
     "data": {
      "text/plain": [
       "(2, 3)"
      ]
     },
     "execution_count": 188,
     "metadata": {},
     "output_type": "execute_result"
    }
   ],
   "source": [
    "# vizualizarea formei lui a2\n",
    "a2.shape"
   ]
  },
  {
   "cell_type": "code",
   "execution_count": 189,
   "id": "24f0680e",
   "metadata": {},
   "outputs": [
    {
     "data": {
      "text/plain": [
       "2"
      ]
     },
     "execution_count": 189,
     "metadata": {},
     "output_type": "execute_result"
    }
   ],
   "source": [
    "# vizualizarea numarului dimensiunii lui a2\n",
    "a2.ndim"
   ]
  },
  {
   "cell_type": "code",
   "execution_count": 190,
   "id": "2492cfd7",
   "metadata": {},
   "outputs": [
    {
     "data": {
      "text/plain": [
       "array([[1. , 4. ],\n",
       "       [2. , 5. ],\n",
       "       [3.3, 6.5]])"
      ]
     },
     "execution_count": 190,
     "metadata": {},
     "output_type": "execute_result"
    }
   ],
   "source": [
    "# obtinerea transpusei lui a2\n",
    "a7 = a2.T\n",
    "a7"
   ]
  },
  {
   "cell_type": "code",
   "execution_count": 191,
   "id": "d56175e0",
   "metadata": {},
   "outputs": [
    {
     "data": {
      "text/plain": [
       "(3, 2)"
      ]
     },
     "execution_count": 191,
     "metadata": {},
     "output_type": "execute_result"
    }
   ],
   "source": [
    "# vizualizarea formei lui a7\n",
    "a7.shape"
   ]
  },
  {
   "cell_type": "code",
   "execution_count": 192,
   "id": "2b03d516",
   "metadata": {},
   "outputs": [
    {
     "data": {
      "text/plain": [
       "2"
      ]
     },
     "execution_count": 192,
     "metadata": {},
     "output_type": "execute_result"
    }
   ],
   "source": [
    "# vizualizarea numarului dimensiunii lui a7\n",
    "a7.ndim"
   ]
  },
  {
   "cell_type": "markdown",
   "id": "527cf3c2",
   "metadata": {},
   "source": [
    "### 4.5. Operatorul DOT product"
   ]
  },
  {
   "cell_type": "code",
   "execution_count": 194,
   "id": "dd50bc7d",
   "metadata": {},
   "outputs": [],
   "source": [
    "# se creaza 2 matrice de aceleasi dimensiuni\n",
    "np.random.seed(9)\n",
    "\n",
    "mat1=np.random.randint(10, size=(3,4))\n",
    "mat2=np.random.randint(10, size=(3,4))"
   ]
  },
  {
   "cell_type": "code",
   "execution_count": 195,
   "id": "11312fae",
   "metadata": {},
   "outputs": [
    {
     "data": {
      "text/plain": [
       "array([[5, 6, 8, 6],\n",
       "       [1, 6, 4, 8],\n",
       "       [1, 8, 5, 1]])"
      ]
     },
     "execution_count": 195,
     "metadata": {},
     "output_type": "execute_result"
    }
   ],
   "source": [
    "# vizualizarea lui mat1\n",
    "mat1"
   ]
  },
  {
   "cell_type": "code",
   "execution_count": 196,
   "id": "a9c8b097",
   "metadata": {},
   "outputs": [
    {
     "data": {
      "text/plain": [
       "array([[0, 8, 8, 8],\n",
       "       [2, 6, 8, 1],\n",
       "       [8, 3, 5, 3]])"
      ]
     },
     "execution_count": 196,
     "metadata": {},
     "output_type": "execute_result"
    }
   ],
   "source": [
    "# vizualizarea lui mat2\n",
    "mat2"
   ]
  },
  {
   "cell_type": "code",
   "execution_count": 198,
   "id": "ae2f81e7",
   "metadata": {},
   "outputs": [
    {
     "data": {
      "text/plain": [
       "((3, 4), (3, 4))"
      ]
     },
     "execution_count": 198,
     "metadata": {},
     "output_type": "execute_result"
    }
   ],
   "source": [
    "# vizualizarea formelor lui mat1 si mat2\n",
    "mat1.shape, mat2.shape"
   ]
  },
  {
   "cell_type": "code",
   "execution_count": 197,
   "id": "b88cb572",
   "metadata": {},
   "outputs": [
    {
     "data": {
      "text/plain": [
       "array([[ 0, 48, 64, 48],\n",
       "       [ 2, 36, 32,  8],\n",
       "       [ 8, 24, 25,  3]])"
      ]
     },
     "execution_count": 197,
     "metadata": {},
     "output_type": "execute_result"
    }
   ],
   "source": [
    "# imultirea \"element cu element\" a mat1 si mat2 (Hadamard product)\n",
    "mat1 * mat2"
   ]
  },
  {
   "cell_type": "markdown",
   "id": "93168e38",
   "metadata": {},
   "source": [
    "Pentru realizarea operatiei `DOT product` dintre 2 matrici de formele (m,n) si (x,y) este necesar ca n=x iar matricea rezultanta va avea forma (m,y).\n",
    "Mai multe se pot gasi pe adresele:\n",
    "https://www.mathsisfun.com/algebra/matrix-multiplying.html\n",
    "\n",
    "http://matrixmultiplication.xyz/"
   ]
  },
  {
   "cell_type": "code",
   "execution_count": 202,
   "id": "a64f4f19",
   "metadata": {},
   "outputs": [
    {
     "data": {
      "text/plain": [
       "array([[0, 2, 8],\n",
       "       [8, 6, 3],\n",
       "       [8, 8, 5],\n",
       "       [8, 1, 3]])"
      ]
     },
     "execution_count": 202,
     "metadata": {},
     "output_type": "execute_result"
    }
   ],
   "source": [
    "# determinarea transpusei lui m2\n",
    "mat2_T = mat2.T\n",
    "mat2_T"
   ]
  },
  {
   "cell_type": "code",
   "execution_count": 203,
   "id": "49758b2f",
   "metadata": {},
   "outputs": [
    {
     "data": {
      "text/plain": [
       "(4, 3)"
      ]
     },
     "execution_count": 203,
     "metadata": {},
     "output_type": "execute_result"
    }
   ],
   "source": [
    "# vizualizarea formei lui mat2_T\n",
    "mat2_T.shape"
   ]
  },
  {
   "cell_type": "code",
   "execution_count": 204,
   "id": "41ea2f4a",
   "metadata": {},
   "outputs": [
    {
     "data": {
      "text/plain": [
       "array([[160, 116, 116],\n",
       "       [144,  78,  70],\n",
       "       [112,  91,  60]])"
      ]
     },
     "execution_count": 204,
     "metadata": {},
     "output_type": "execute_result"
    }
   ],
   "source": [
    "# realizarea operatiei dot product dintre mat1 si mat2_T\n",
    "mat3 = np.dot(mat1, mat2_T)\n",
    "mat3"
   ]
  },
  {
   "cell_type": "code",
   "execution_count": 205,
   "id": "465f5c17",
   "metadata": {},
   "outputs": [
    {
     "data": {
      "text/plain": [
       "(3, 3)"
      ]
     },
     "execution_count": 205,
     "metadata": {},
     "output_type": "execute_result"
    }
   ],
   "source": [
    "# vizualizarea formei lui mat3\n",
    "mat3.shape"
   ]
  },
  {
   "cell_type": "code",
   "execution_count": 206,
   "id": "23cbb836",
   "metadata": {},
   "outputs": [
    {
     "data": {
      "text/plain": [
       "array([[ 10,  76,  48,  24],\n",
       "       [ 49, 108, 103,  99],\n",
       "       [ 53, 136, 121, 117],\n",
       "       [ 44,  78,  83,  59]])"
      ]
     },
     "execution_count": 206,
     "metadata": {},
     "output_type": "execute_result"
    }
   ],
   "source": [
    "# realizarea operatiei dot product dintre mat2_T si mat1\n",
    "mat4 = np.dot(mat2_T, mat1)\n",
    "mat4"
   ]
  },
  {
   "cell_type": "code",
   "execution_count": 207,
   "id": "566b3349",
   "metadata": {},
   "outputs": [
    {
     "data": {
      "text/plain": [
       "(4, 4)"
      ]
     },
     "execution_count": 207,
     "metadata": {},
     "output_type": "execute_result"
    }
   ],
   "source": [
    "# vizualizarea formei lui mat4\n",
    "mat4.shape"
   ]
  },
  {
   "cell_type": "markdown",
   "id": "d8c134fe",
   "metadata": {},
   "source": [
    "### 4.6. Comparison Operators "
   ]
  },
  {
   "cell_type": "code",
   "execution_count": 235,
   "id": "480555ef",
   "metadata": {},
   "outputs": [
    {
     "data": {
      "text/plain": [
       "array([1, 2, 3])"
      ]
     },
     "execution_count": 235,
     "metadata": {},
     "output_type": "execute_result"
    }
   ],
   "source": [
    "# vizualizarea lui a1\n",
    "a1"
   ]
  },
  {
   "cell_type": "code",
   "execution_count": 236,
   "id": "cfd8ade8",
   "metadata": {},
   "outputs": [
    {
     "data": {
      "text/plain": [
       "array([[1. , 2. , 3.3],\n",
       "       [4. , 5. , 6.5]])"
      ]
     },
     "execution_count": 236,
     "metadata": {},
     "output_type": "execute_result"
    }
   ],
   "source": [
    "# vizualizarea lui a2\n",
    "a2"
   ]
  },
  {
   "cell_type": "code",
   "execution_count": 237,
   "id": "80d0284b",
   "metadata": {},
   "outputs": [
    {
     "data": {
      "text/plain": [
       "array([[False, False, False],\n",
       "       [False, False, False]])"
      ]
     },
     "execution_count": 237,
     "metadata": {},
     "output_type": "execute_result"
    }
   ],
   "source": [
    "# compararea a1 cu a2\n",
    "a1 > a2"
   ]
  },
  {
   "cell_type": "code",
   "execution_count": 238,
   "id": "2287b496",
   "metadata": {},
   "outputs": [
    {
     "data": {
      "text/plain": [
       "array([[ True,  True, False],\n",
       "       [False, False, False]])"
      ]
     },
     "execution_count": 238,
     "metadata": {},
     "output_type": "execute_result"
    }
   ],
   "source": [
    "# compararea a1 cu a2 si formarea lui a11\n",
    "a11 = a1 >= a2\n",
    "a11"
   ]
  },
  {
   "cell_type": "code",
   "execution_count": 239,
   "id": "c6517ad4",
   "metadata": {},
   "outputs": [
    {
     "data": {
      "text/plain": [
       "numpy.ndarray"
      ]
     },
     "execution_count": 239,
     "metadata": {},
     "output_type": "execute_result"
    }
   ],
   "source": [
    "# vizualizarea tipului lui a11\n",
    "type(a11)"
   ]
  },
  {
   "cell_type": "code",
   "execution_count": 240,
   "id": "f5aaefe7",
   "metadata": {},
   "outputs": [
    {
     "data": {
      "text/plain": [
       "dtype('bool')"
      ]
     },
     "execution_count": 240,
     "metadata": {},
     "output_type": "execute_result"
    }
   ],
   "source": [
    "# vizualizarea tipului elementelor lui a11\n",
    "a11.dtype"
   ]
  },
  {
   "cell_type": "code",
   "execution_count": 242,
   "id": "5bf6ed51",
   "metadata": {},
   "outputs": [
    {
     "data": {
      "text/plain": [
       "array([[False, False, False],\n",
       "       [False,  True,  True]])"
      ]
     },
     "execution_count": 242,
     "metadata": {},
     "output_type": "execute_result"
    }
   ],
   "source": [
    "# compararea a2 cu un numar scalar\n",
    "a2 >= 5"
   ]
  },
  {
   "cell_type": "code",
   "execution_count": 243,
   "id": "c968b202",
   "metadata": {},
   "outputs": [
    {
     "data": {
      "text/plain": [
       "array([[ True,  True,  True],\n",
       "       [ True,  True,  True]])"
      ]
     },
     "execution_count": 243,
     "metadata": {},
     "output_type": "execute_result"
    }
   ],
   "source": [
    "# compararea a2 cu a2\n",
    "a2 == a2"
   ]
  },
  {
   "cell_type": "markdown",
   "id": "14b7db0e",
   "metadata": {},
   "source": [
    "# 5. Utilizarea NumPy: Vanzare Fructe"
   ]
  },
  {
   "cell_type": "markdown",
   "id": "384e43b0",
   "metadata": {},
   "source": [
    "In exemplu se determina cati lei s-au obtinut zilnic din vanzarea a trei tipuri de fructe: cirese, capsune si zmeura. Cantitatea vanzarilor si pretul per kg sunt specificate in fisierul Vanzari_fructe.xlsx"
   ]
  },
  {
   "cell_type": "code",
   "execution_count": 209,
   "id": "3cdfe33c",
   "metadata": {},
   "outputs": [
    {
     "data": {
      "text/plain": [
       "array([[20, 14, 23],\n",
       "       [31, 41, 14],\n",
       "       [15, 21, 34],\n",
       "       [19, 21, 26],\n",
       "       [13, 17, 11],\n",
       "       [23, 14,  6],\n",
       "       [27, 18,  9]])"
      ]
     },
     "execution_count": 209,
     "metadata": {},
     "output_type": "execute_result"
    }
   ],
   "source": [
    "# se creaza o matrice NumPy cu vanzarile zilnice:\n",
    "vanzari_cantitate= np.array([[20, 14, 23], \n",
    "                             [31, 41, 14],\n",
    "                             [15, 21, 34],\n",
    "                             [19, 21, 26],\n",
    "                             [13, 17, 11],\n",
    "                             [23, 14, 6],\n",
    "                             [27, 18, 9]])\n",
    "vanzari_cantitate"
   ]
  },
  {
   "cell_type": "code",
   "execution_count": 217,
   "id": "895d9b73",
   "metadata": {},
   "outputs": [
    {
     "data": {
      "text/plain": [
       "((7, 3), 2)"
      ]
     },
     "execution_count": 217,
     "metadata": {},
     "output_type": "execute_result"
    }
   ],
   "source": [
    "# se vizualizeaza forma si numarul de dimensiuni a lui vanzari_cantitate\n",
    "vanzari_cantitate.shape, vanzari_cantitate.ndim"
   ]
  },
  {
   "cell_type": "code",
   "execution_count": 211,
   "id": "b43889a2",
   "metadata": {},
   "outputs": [
    {
     "data": {
      "text/html": [
       "<div>\n",
       "<style scoped>\n",
       "    .dataframe tbody tr th:only-of-type {\n",
       "        vertical-align: middle;\n",
       "    }\n",
       "\n",
       "    .dataframe tbody tr th {\n",
       "        vertical-align: top;\n",
       "    }\n",
       "\n",
       "    .dataframe thead th {\n",
       "        text-align: right;\n",
       "    }\n",
       "</style>\n",
       "<table border=\"1\" class=\"dataframe\">\n",
       "  <thead>\n",
       "    <tr style=\"text-align: right;\">\n",
       "      <th></th>\n",
       "      <th>Cirese (kg)</th>\n",
       "      <th>Capsune (kg)</th>\n",
       "      <th>Zmeura (kg)</th>\n",
       "    </tr>\n",
       "  </thead>\n",
       "  <tbody>\n",
       "    <tr>\n",
       "      <th>Luni</th>\n",
       "      <td>20</td>\n",
       "      <td>14</td>\n",
       "      <td>23</td>\n",
       "    </tr>\n",
       "    <tr>\n",
       "      <th>Marti</th>\n",
       "      <td>31</td>\n",
       "      <td>41</td>\n",
       "      <td>14</td>\n",
       "    </tr>\n",
       "    <tr>\n",
       "      <th>Miercuri</th>\n",
       "      <td>15</td>\n",
       "      <td>21</td>\n",
       "      <td>34</td>\n",
       "    </tr>\n",
       "    <tr>\n",
       "      <th>Joi</th>\n",
       "      <td>19</td>\n",
       "      <td>21</td>\n",
       "      <td>26</td>\n",
       "    </tr>\n",
       "    <tr>\n",
       "      <th>Vineri</th>\n",
       "      <td>13</td>\n",
       "      <td>17</td>\n",
       "      <td>11</td>\n",
       "    </tr>\n",
       "    <tr>\n",
       "      <th>Sambata</th>\n",
       "      <td>23</td>\n",
       "      <td>14</td>\n",
       "      <td>6</td>\n",
       "    </tr>\n",
       "    <tr>\n",
       "      <th>Duminica</th>\n",
       "      <td>27</td>\n",
       "      <td>18</td>\n",
       "      <td>9</td>\n",
       "    </tr>\n",
       "  </tbody>\n",
       "</table>\n",
       "</div>"
      ],
      "text/plain": [
       "          Cirese (kg)  Capsune (kg)  Zmeura (kg)\n",
       "Luni               20            14           23\n",
       "Marti              31            41           14\n",
       "Miercuri           15            21           34\n",
       "Joi                19            21           26\n",
       "Vineri             13            17           11\n",
       "Sambata            23            14            6\n",
       "Duminica           27            18            9"
      ]
     },
     "execution_count": 211,
     "metadata": {},
     "output_type": "execute_result"
    }
   ],
   "source": [
    "# pentru o vizualizare mai adecvata se va forma un dataframe pentru vanzari_cantitate\n",
    "vc_df= pd.DataFrame(vanzari_cantitate,\n",
    "                    index=['Luni', 'Marti', 'Miercuri', 'Joi', 'Vineri', 'Sambata', 'Duminica'],\n",
    "                    columns = ['Cirese (kg)', 'Capsune (kg)', 'Zmeura (kg)'])\n",
    "vc_df"
   ]
  },
  {
   "cell_type": "code",
   "execution_count": 210,
   "id": "b063784a",
   "metadata": {},
   "outputs": [],
   "source": [
    "# se creaza un array cu preturile per kg a fructelor:\n",
    "pret_kg = np.array([20, 25, 32])"
   ]
  },
  {
   "cell_type": "code",
   "execution_count": 216,
   "id": "7f91bbc2",
   "metadata": {},
   "outputs": [
    {
     "data": {
      "text/plain": [
       "((3,), 1)"
      ]
     },
     "execution_count": 216,
     "metadata": {},
     "output_type": "execute_result"
    }
   ],
   "source": [
    "# se vizualizeaza forma si numarul de dimensiuni a lui pret_kg\n",
    "pret_kg.shape, pret_kg.ndim"
   ]
  },
  {
   "cell_type": "code",
   "execution_count": 218,
   "id": "acc8ad23",
   "metadata": {},
   "outputs": [
    {
     "data": {
      "text/plain": [
       "array([[20, 25, 32]])"
      ]
     },
     "execution_count": 218,
     "metadata": {},
     "output_type": "execute_result"
    }
   ],
   "source": [
    "# se modifica forma lui pret_kg\n",
    "pret_kg_m = pret_kg.reshape(1,3)\n",
    "pret_kg_m"
   ]
  },
  {
   "cell_type": "code",
   "execution_count": 219,
   "id": "d0247560",
   "metadata": {},
   "outputs": [
    {
     "data": {
      "text/html": [
       "<div>\n",
       "<style scoped>\n",
       "    .dataframe tbody tr th:only-of-type {\n",
       "        vertical-align: middle;\n",
       "    }\n",
       "\n",
       "    .dataframe tbody tr th {\n",
       "        vertical-align: top;\n",
       "    }\n",
       "\n",
       "    .dataframe thead th {\n",
       "        text-align: right;\n",
       "    }\n",
       "</style>\n",
       "<table border=\"1\" class=\"dataframe\">\n",
       "  <thead>\n",
       "    <tr style=\"text-align: right;\">\n",
       "      <th></th>\n",
       "      <th>Cirese</th>\n",
       "      <th>Capsune</th>\n",
       "      <th>Zmeura</th>\n",
       "    </tr>\n",
       "  </thead>\n",
       "  <tbody>\n",
       "    <tr>\n",
       "      <th>Pret (lei/kg)</th>\n",
       "      <td>20</td>\n",
       "      <td>25</td>\n",
       "      <td>32</td>\n",
       "    </tr>\n",
       "  </tbody>\n",
       "</table>\n",
       "</div>"
      ],
      "text/plain": [
       "               Cirese  Capsune  Zmeura\n",
       "Pret (lei/kg)      20       25      32"
      ]
     },
     "execution_count": 219,
     "metadata": {},
     "output_type": "execute_result"
    }
   ],
   "source": [
    "# pentru o vizualizare mai adecvata se va forma un dataframe si pentru pret_kg \n",
    "pret_df= pd.DataFrame(pret_kg_m ,\n",
    "                    index=['Pret (lei/kg)'],\n",
    "                    columns = ['Cirese', 'Capsune', 'Zmeura'])\n",
    "pret_df"
   ]
  },
  {
   "cell_type": "code",
   "execution_count": 233,
   "id": "32cbca9c",
   "metadata": {},
   "outputs": [
    {
     "data": {
      "text/plain": [
       "(3,)"
      ]
     },
     "execution_count": 233,
     "metadata": {},
     "output_type": "execute_result"
    }
   ],
   "source": [
    "# se vizualizeaza forma lui pret_kg\n",
    "pret_kg.shape"
   ]
  },
  {
   "cell_type": "code",
   "execution_count": 226,
   "id": "46e91317",
   "metadata": {},
   "outputs": [
    {
     "data": {
      "text/plain": [
       "(7, 3)"
      ]
     },
     "execution_count": 226,
     "metadata": {},
     "output_type": "execute_result"
    }
   ],
   "source": [
    "# se vizualizeaza forma lui vanzari_cantitate\n",
    "vanzari_cantitate.shape"
   ]
  },
  {
   "cell_type": "code",
   "execution_count": 227,
   "id": "0199e00c",
   "metadata": {},
   "outputs": [
    {
     "data": {
      "text/plain": [
       "array([[20, 31, 15, 19, 13, 23, 27],\n",
       "       [14, 41, 21, 21, 17, 14, 18],\n",
       "       [23, 14, 34, 26, 11,  6,  9]])"
      ]
     },
     "execution_count": 227,
     "metadata": {},
     "output_type": "execute_result"
    }
   ],
   "source": [
    "# se determina transpusa lui vanzari_cantitate\n",
    "vanzari_cantitate_T = vanzari_cantitate.T\n",
    "vanzari_cantitate_T"
   ]
  },
  {
   "cell_type": "code",
   "execution_count": 228,
   "id": "4e1436b0",
   "metadata": {},
   "outputs": [
    {
     "data": {
      "text/plain": [
       "(3, 7)"
      ]
     },
     "execution_count": 228,
     "metadata": {},
     "output_type": "execute_result"
    }
   ],
   "source": [
    "# se vizualizeaza forma lui vanzari_cantitate_T\n",
    "vanzari_cantitate_T.shape"
   ]
  },
  {
   "cell_type": "code",
   "execution_count": 231,
   "id": "5d538c73",
   "metadata": {},
   "outputs": [
    {
     "data": {
      "text/plain": [
       "array([1486, 2093, 1913, 1737, 1037, 1002, 1278])"
      ]
     },
     "execution_count": 231,
     "metadata": {},
     "output_type": "execute_result"
    }
   ],
   "source": [
    "# se determina suma zinica obtinuta utilizand operantul dot product\n",
    "suma_zilnica = pret_kg.dot (vanzari_cantitate_T)\n",
    "suma_zilnica"
   ]
  },
  {
   "cell_type": "code",
   "execution_count": 234,
   "id": "a5253d5e",
   "metadata": {},
   "outputs": [
    {
     "data": {
      "text/html": [
       "<div>\n",
       "<style scoped>\n",
       "    .dataframe tbody tr th:only-of-type {\n",
       "        vertical-align: middle;\n",
       "    }\n",
       "\n",
       "    .dataframe tbody tr th {\n",
       "        vertical-align: top;\n",
       "    }\n",
       "\n",
       "    .dataframe thead th {\n",
       "        text-align: right;\n",
       "    }\n",
       "</style>\n",
       "<table border=\"1\" class=\"dataframe\">\n",
       "  <thead>\n",
       "    <tr style=\"text-align: right;\">\n",
       "      <th></th>\n",
       "      <th>Cirese (kg)</th>\n",
       "      <th>Capsune (kg)</th>\n",
       "      <th>Zmeura (kg)</th>\n",
       "      <th>Total (lei)</th>\n",
       "    </tr>\n",
       "  </thead>\n",
       "  <tbody>\n",
       "    <tr>\n",
       "      <th>Luni</th>\n",
       "      <td>20</td>\n",
       "      <td>14</td>\n",
       "      <td>23</td>\n",
       "      <td>1486</td>\n",
       "    </tr>\n",
       "    <tr>\n",
       "      <th>Marti</th>\n",
       "      <td>31</td>\n",
       "      <td>41</td>\n",
       "      <td>14</td>\n",
       "      <td>2093</td>\n",
       "    </tr>\n",
       "    <tr>\n",
       "      <th>Miercuri</th>\n",
       "      <td>15</td>\n",
       "      <td>21</td>\n",
       "      <td>34</td>\n",
       "      <td>1913</td>\n",
       "    </tr>\n",
       "    <tr>\n",
       "      <th>Joi</th>\n",
       "      <td>19</td>\n",
       "      <td>21</td>\n",
       "      <td>26</td>\n",
       "      <td>1737</td>\n",
       "    </tr>\n",
       "    <tr>\n",
       "      <th>Vineri</th>\n",
       "      <td>13</td>\n",
       "      <td>17</td>\n",
       "      <td>11</td>\n",
       "      <td>1037</td>\n",
       "    </tr>\n",
       "    <tr>\n",
       "      <th>Sambata</th>\n",
       "      <td>23</td>\n",
       "      <td>14</td>\n",
       "      <td>6</td>\n",
       "      <td>1002</td>\n",
       "    </tr>\n",
       "    <tr>\n",
       "      <th>Duminica</th>\n",
       "      <td>27</td>\n",
       "      <td>18</td>\n",
       "      <td>9</td>\n",
       "      <td>1278</td>\n",
       "    </tr>\n",
       "  </tbody>\n",
       "</table>\n",
       "</div>"
      ],
      "text/plain": [
       "          Cirese (kg)  Capsune (kg)  Zmeura (kg)  Total (lei)\n",
       "Luni               20            14           23         1486\n",
       "Marti              31            41           14         2093\n",
       "Miercuri           15            21           34         1913\n",
       "Joi                19            21           26         1737\n",
       "Vineri             13            17           11         1037\n",
       "Sambata            23            14            6         1002\n",
       "Duminica           27            18            9         1278"
      ]
     },
     "execution_count": 234,
     "metadata": {},
     "output_type": "execute_result"
    }
   ],
   "source": [
    "# Adaugarea unei noi coloane cu suma zilnica in vc_df\n",
    "vc_df['Total (lei)'] = suma_zilnica\n",
    "vc_df"
   ]
  },
  {
   "cell_type": "markdown",
   "id": "48bb34fc",
   "metadata": {},
   "source": [
    "# 6. Sortarea array"
   ]
  },
  {
   "cell_type": "code",
   "execution_count": null,
   "id": "de7f68ca",
   "metadata": {},
   "outputs": [],
   "source": []
  }
 ],
 "metadata": {
  "kernelspec": {
   "display_name": "Python 3",
   "language": "python",
   "name": "python3"
  },
  "language_info": {
   "codemirror_mode": {
    "name": "ipython",
    "version": 3
   },
   "file_extension": ".py",
   "mimetype": "text/x-python",
   "name": "python",
   "nbconvert_exporter": "python",
   "pygments_lexer": "ipython3",
   "version": "3.9.4"
  }
 },
 "nbformat": 4,
 "nbformat_minor": 5
}
