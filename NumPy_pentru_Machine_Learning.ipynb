{
 "cells": [
  {
   "cell_type": "markdown",
   "id": "009fb5d4",
   "metadata": {},
   "source": [
    "# Continut\n",
    "## 0. Importul bibliotecilor\n",
    "## 1. Tipuri de date si atribute\n",
    "## 2. Crearea unui array NumPy\n",
    "## 3. Vizualizarea in array si matrici\n",
    "## 4. Manipularea si compararea array\n",
    "## 5. Utilizarea NumPy: Vanzare Fructe\n",
    "## 6. Sortarea in array\n",
    "## 7. Conversia imaginii in array"
   ]
  },
  {
   "cell_type": "markdown",
   "id": "aa69e15a",
   "metadata": {},
   "source": [
    "# 0. Importul bibliotecilor"
   ]
  },
  {
   "cell_type": "code",
   "execution_count": 274,
   "id": "ca4ecdf6",
   "metadata": {},
   "outputs": [],
   "source": [
    "# importul bibliotecilor utilizate\n",
    "import numpy as np\n",
    "import pandas as pd\n",
    "from matplotlib.image import imread"
   ]
  },
  {
   "cell_type": "markdown",
   "id": "0001b81b",
   "metadata": {},
   "source": [
    "# 1. Tipuri de date si atribute"
   ]
  },
  {
   "cell_type": "markdown",
   "id": "59d73e1a",
   "metadata": {},
   "source": [
    "### 1.1. Tipuri de date NumPy\n",
    "#### Principalul tip de date in NumPy este tipul ndarray"
   ]
  },
  {
   "cell_type": "code",
   "execution_count": 2,
   "id": "32cba468",
   "metadata": {},
   "outputs": [],
   "source": [
    "# crearea unui array unidimensional\n",
    "a1 = np.array([1, 2, 3])"
   ]
  },
  {
   "cell_type": "code",
   "execution_count": 3,
   "id": "9e201e75",
   "metadata": {},
   "outputs": [
    {
     "data": {
      "text/plain": [
       "array([1, 2, 3])"
      ]
     },
     "execution_count": 3,
     "metadata": {},
     "output_type": "execute_result"
    }
   ],
   "source": [
    "# vizualizarea lui a1\n",
    "a1"
   ]
  },
  {
   "cell_type": "code",
   "execution_count": 4,
   "id": "b6e37fc5",
   "metadata": {},
   "outputs": [
    {
     "data": {
      "text/plain": [
       "array([[1. , 2. , 3.3],\n",
       "       [4. , 5. , 6.5]])"
      ]
     },
     "execution_count": 4,
     "metadata": {},
     "output_type": "execute_result"
    }
   ],
   "source": [
    "# crearea unui array bidimensional\n",
    "a2 = np.array([[1, 2.0, 3.3],\n",
    "               [4, 5, 6.5]])\n",
    "a2"
   ]
  },
  {
   "cell_type": "code",
   "execution_count": 5,
   "id": "b4b0ad77",
   "metadata": {},
   "outputs": [
    {
     "data": {
      "text/plain": [
       "array([[[ 1,  2,  3],\n",
       "        [ 4,  5,  6]],\n",
       "\n",
       "       [[ 7,  8,  9],\n",
       "        [10, 11, 12]],\n",
       "\n",
       "       [[13, 14, 15],\n",
       "        [16, 17, 18]]])"
      ]
     },
     "execution_count": 5,
     "metadata": {},
     "output_type": "execute_result"
    }
   ],
   "source": [
    "# crearea unui array tridimensional\n",
    "a3 = np.array([[[1, 2, 3],\n",
    "                [4, 5, 6]],\n",
    "               [[7, 8, 9],\n",
    "                [10, 11, 12]],\n",
    "               [[13, 14, 15],\n",
    "                [16, 17, 18]]])\n",
    "a3"
   ]
  },
  {
   "cell_type": "markdown",
   "id": "70fbc5b7",
   "metadata": {},
   "source": [
    "### 1.2. Atributele elementelor de tip ndarray\n",
    "#### 1.2.1. Forma ndarray - `.shape`"
   ]
  },
  {
   "cell_type": "code",
   "execution_count": 6,
   "id": "2264fadd",
   "metadata": {},
   "outputs": [
    {
     "data": {
      "text/plain": [
       "(3,)"
      ]
     },
     "execution_count": 6,
     "metadata": {},
     "output_type": "execute_result"
    }
   ],
   "source": [
    "# vizualizarea formei lui a1\n",
    "a1.shape"
   ]
  },
  {
   "cell_type": "code",
   "execution_count": 7,
   "id": "1ab22299",
   "metadata": {},
   "outputs": [
    {
     "data": {
      "text/plain": [
       "(2, 3)"
      ]
     },
     "execution_count": 7,
     "metadata": {},
     "output_type": "execute_result"
    }
   ],
   "source": [
    "# vizualizarea formei lui a2\n",
    "a2.shape"
   ]
  },
  {
   "cell_type": "code",
   "execution_count": 8,
   "id": "0df2ab54",
   "metadata": {},
   "outputs": [
    {
     "data": {
      "text/plain": [
       "(3, 2, 3)"
      ]
     },
     "execution_count": 8,
     "metadata": {},
     "output_type": "execute_result"
    }
   ],
   "source": [
    "# vizualizarea formei lui a3\n",
    "a3.shape"
   ]
  },
  {
   "cell_type": "markdown",
   "id": "2cb5f10b",
   "metadata": {},
   "source": [
    "#### 1.2.2. Numarul dimensiunii - `.ndim`"
   ]
  },
  {
   "cell_type": "code",
   "execution_count": 9,
   "id": "40192eb8",
   "metadata": {},
   "outputs": [
    {
     "data": {
      "text/plain": [
       "1"
      ]
     },
     "execution_count": 9,
     "metadata": {},
     "output_type": "execute_result"
    }
   ],
   "source": [
    "# vizualizarea numarului de dimensiuni pentru a1\n",
    "a1.ndim"
   ]
  },
  {
   "cell_type": "code",
   "execution_count": 10,
   "id": "115a033f",
   "metadata": {},
   "outputs": [
    {
     "data": {
      "text/plain": [
       "2"
      ]
     },
     "execution_count": 10,
     "metadata": {},
     "output_type": "execute_result"
    }
   ],
   "source": [
    "# vizualizarea numarului de dimensiuni pentru a2\n",
    "a2.ndim"
   ]
  },
  {
   "cell_type": "code",
   "execution_count": 11,
   "id": "f33567f9",
   "metadata": {},
   "outputs": [
    {
     "data": {
      "text/plain": [
       "3"
      ]
     },
     "execution_count": 11,
     "metadata": {},
     "output_type": "execute_result"
    }
   ],
   "source": [
    "# vizualizarea numarului de dimensiuni pentru a3\n",
    "a3.ndim"
   ]
  },
  {
   "cell_type": "markdown",
   "id": "202e2f2c",
   "metadata": {},
   "source": [
    "#### 1.2.3. Tipul elementelor componente - `.dtype`"
   ]
  },
  {
   "cell_type": "code",
   "execution_count": 12,
   "id": "280173cb",
   "metadata": {},
   "outputs": [
    {
     "data": {
      "text/plain": [
       "dtype('int32')"
      ]
     },
     "execution_count": 12,
     "metadata": {},
     "output_type": "execute_result"
    }
   ],
   "source": [
    "# determinarea tipului elementelor lui a1\n",
    "a1.dtype"
   ]
  },
  {
   "cell_type": "code",
   "execution_count": 13,
   "id": "97a05e06",
   "metadata": {},
   "outputs": [
    {
     "data": {
      "text/plain": [
       "dtype('float64')"
      ]
     },
     "execution_count": 13,
     "metadata": {},
     "output_type": "execute_result"
    }
   ],
   "source": [
    "# determinarea tipului elementelor lui a2\n",
    "a2.dtype"
   ]
  },
  {
   "cell_type": "code",
   "execution_count": 14,
   "id": "c1eb8969",
   "metadata": {},
   "outputs": [
    {
     "data": {
      "text/plain": [
       "dtype('int32')"
      ]
     },
     "execution_count": 14,
     "metadata": {},
     "output_type": "execute_result"
    }
   ],
   "source": [
    "# determinarea tipului elementelor lui a3\n",
    "a3.dtype"
   ]
  },
  {
   "cell_type": "markdown",
   "id": "0685d319",
   "metadata": {},
   "source": [
    "#### 1.2.4. Numarul elementelor componente - `.size`"
   ]
  },
  {
   "cell_type": "code",
   "execution_count": 15,
   "id": "d9096bb9",
   "metadata": {},
   "outputs": [
    {
     "data": {
      "text/plain": [
       "3"
      ]
     },
     "execution_count": 15,
     "metadata": {},
     "output_type": "execute_result"
    }
   ],
   "source": [
    "# determinarea numarului de elemente in a1\n",
    "a1.size"
   ]
  },
  {
   "cell_type": "code",
   "execution_count": 16,
   "id": "824e1d19",
   "metadata": {},
   "outputs": [
    {
     "data": {
      "text/plain": [
       "6"
      ]
     },
     "execution_count": 16,
     "metadata": {},
     "output_type": "execute_result"
    }
   ],
   "source": [
    "# determinarea numarului de elemente in a2\n",
    "a2.size"
   ]
  },
  {
   "cell_type": "code",
   "execution_count": 17,
   "id": "167c1a06",
   "metadata": {},
   "outputs": [
    {
     "data": {
      "text/plain": [
       "18"
      ]
     },
     "execution_count": 17,
     "metadata": {},
     "output_type": "execute_result"
    }
   ],
   "source": [
    "# determinarea numarului de elemente in a3\n",
    "a3.size"
   ]
  },
  {
   "cell_type": "markdown",
   "id": "428a18e1",
   "metadata": {},
   "source": [
    "#### 1.2.5. Tipul array - `type()`"
   ]
  },
  {
   "cell_type": "code",
   "execution_count": 18,
   "id": "e5454a4a",
   "metadata": {},
   "outputs": [
    {
     "data": {
      "text/plain": [
       "numpy.ndarray"
      ]
     },
     "execution_count": 18,
     "metadata": {},
     "output_type": "execute_result"
    }
   ],
   "source": [
    "# determinarea tipului lui a1\n",
    "type(a1)"
   ]
  },
  {
   "cell_type": "code",
   "execution_count": 19,
   "id": "dc450cf3",
   "metadata": {},
   "outputs": [
    {
     "data": {
      "text/plain": [
       "numpy.ndarray"
      ]
     },
     "execution_count": 19,
     "metadata": {},
     "output_type": "execute_result"
    }
   ],
   "source": [
    "# determinarea tipului lui a2\n",
    "type(a2)"
   ]
  },
  {
   "cell_type": "code",
   "execution_count": 20,
   "id": "0fa7d1db",
   "metadata": {},
   "outputs": [
    {
     "data": {
      "text/plain": [
       "numpy.ndarray"
      ]
     },
     "execution_count": 20,
     "metadata": {},
     "output_type": "execute_result"
    }
   ],
   "source": [
    "# determinarea tipului lui a3\n",
    "type(a3)"
   ]
  },
  {
   "cell_type": "markdown",
   "id": "c30d6aed",
   "metadata": {},
   "source": [
    "### 1.3. Transformarea unui array in dataframe"
   ]
  },
  {
   "cell_type": "code",
   "execution_count": 22,
   "id": "ebe346d4",
   "metadata": {},
   "outputs": [
    {
     "data": {
      "text/html": [
       "<div>\n",
       "<style scoped>\n",
       "    .dataframe tbody tr th:only-of-type {\n",
       "        vertical-align: middle;\n",
       "    }\n",
       "\n",
       "    .dataframe tbody tr th {\n",
       "        vertical-align: top;\n",
       "    }\n",
       "\n",
       "    .dataframe thead th {\n",
       "        text-align: right;\n",
       "    }\n",
       "</style>\n",
       "<table border=\"1\" class=\"dataframe\">\n",
       "  <thead>\n",
       "    <tr style=\"text-align: right;\">\n",
       "      <th></th>\n",
       "      <th>0</th>\n",
       "      <th>1</th>\n",
       "      <th>2</th>\n",
       "    </tr>\n",
       "  </thead>\n",
       "  <tbody>\n",
       "    <tr>\n",
       "      <th>0</th>\n",
       "      <td>1.0</td>\n",
       "      <td>2.0</td>\n",
       "      <td>3.3</td>\n",
       "    </tr>\n",
       "    <tr>\n",
       "      <th>1</th>\n",
       "      <td>4.0</td>\n",
       "      <td>5.0</td>\n",
       "      <td>6.5</td>\n",
       "    </tr>\n",
       "  </tbody>\n",
       "</table>\n",
       "</div>"
      ],
      "text/plain": [
       "     0    1    2\n",
       "0  1.0  2.0  3.3\n",
       "1  4.0  5.0  6.5"
      ]
     },
     "execution_count": 22,
     "metadata": {},
     "output_type": "execute_result"
    }
   ],
   "source": [
    "df = pd.DataFrame(a2)\n",
    "df"
   ]
  },
  {
   "cell_type": "markdown",
   "id": "6ebaf748",
   "metadata": {},
   "source": [
    "# 2. Crearea unui array NumPy"
   ]
  },
  {
   "cell_type": "markdown",
   "id": "34dcc05d",
   "metadata": {},
   "source": [
    "### 2.1. Crearea unui array cu ajutorul listelor"
   ]
  },
  {
   "cell_type": "code",
   "execution_count": 26,
   "id": "47580200",
   "metadata": {},
   "outputs": [
    {
     "data": {
      "text/plain": [
       "([6, 2, 8, 4], [7, 9, 3, 5])"
      ]
     },
     "execution_count": 26,
     "metadata": {},
     "output_type": "execute_result"
    }
   ],
   "source": [
    "# se creaza 2 liste Python\n",
    "lt1 = [6, 2, 8, 4]\n",
    "lt2 = [7, 9, 3, 5]\n",
    "lt1, lt2"
   ]
  },
  {
   "cell_type": "code",
   "execution_count": 27,
   "id": "e6433398",
   "metadata": {},
   "outputs": [
    {
     "data": {
      "text/plain": [
       "array([6, 2, 8, 4])"
      ]
     },
     "execution_count": 27,
     "metadata": {},
     "output_type": "execute_result"
    }
   ],
   "source": [
    "# se creaza un array unidimensional din lt1\n",
    "ar1=np.array(lt1)\n",
    "ar1"
   ]
  },
  {
   "cell_type": "code",
   "execution_count": 29,
   "id": "00356ea4",
   "metadata": {},
   "outputs": [
    {
     "data": {
      "text/plain": [
       "array([[6, 2, 8, 4],\n",
       "       [7, 9, 3, 5]])"
      ]
     },
     "execution_count": 29,
     "metadata": {},
     "output_type": "execute_result"
    }
   ],
   "source": [
    "# se creaza un array bidimensional din lt1 si lt2\n",
    "ar2=np.array([lt1,lt2])\n",
    "ar2"
   ]
  },
  {
   "cell_type": "markdown",
   "id": "c3b7ce92",
   "metadata": {},
   "source": [
    "### 2.2. Crearea unui array din elemente 1 sau 0"
   ]
  },
  {
   "cell_type": "code",
   "execution_count": 101,
   "id": "c780c1cd",
   "metadata": {},
   "outputs": [
    {
     "data": {
      "text/plain": [
       "(3, 5)"
      ]
     },
     "execution_count": 101,
     "metadata": {},
     "output_type": "execute_result"
    }
   ],
   "source": [
    "# se creaza o variabila ce specifica forma array\n",
    "sp = (3,5)\n",
    "sp"
   ]
  },
  {
   "cell_type": "code",
   "execution_count": 102,
   "id": "d474adfb",
   "metadata": {},
   "outputs": [
    {
     "data": {
      "text/plain": [
       "array([[1., 1., 1., 1., 1.],\n",
       "       [1., 1., 1., 1., 1.],\n",
       "       [1., 1., 1., 1., 1.]])"
      ]
     },
     "execution_count": 102,
     "metadata": {},
     "output_type": "execute_result"
    }
   ],
   "source": [
    "# se creaza un array doar din elemente 1\n",
    "ar3 = np.ones(sp)\n",
    "ar3"
   ]
  },
  {
   "cell_type": "code",
   "execution_count": 103,
   "id": "d30e2351",
   "metadata": {},
   "outputs": [
    {
     "data": {
      "text/plain": [
       "array([[0., 0., 0., 0., 0.],\n",
       "       [0., 0., 0., 0., 0.],\n",
       "       [0., 0., 0., 0., 0.]])"
      ]
     },
     "execution_count": 103,
     "metadata": {},
     "output_type": "execute_result"
    }
   ],
   "source": [
    "# se creaza un array doar din elemente 0\n",
    "ar4 = np.zeros(sp)\n",
    "ar4"
   ]
  },
  {
   "cell_type": "markdown",
   "id": "33aaec9b",
   "metadata": {},
   "source": [
    "### 2.3. Crearea unui array cu elemente dintr-un interval"
   ]
  },
  {
   "cell_type": "code",
   "execution_count": 35,
   "id": "6b79c0eb",
   "metadata": {},
   "outputs": [
    {
     "data": {
      "text/plain": [
       "array([0, 1, 2, 3, 4, 5, 6, 7, 8, 9])"
      ]
     },
     "execution_count": 35,
     "metadata": {},
     "output_type": "execute_result"
    }
   ],
   "source": [
    "# se creaza un array unidimensional cu elementele intregi de la 0 la 9\n",
    "ar5 =  np.arange(10)\n",
    "ar5"
   ]
  },
  {
   "cell_type": "code",
   "execution_count": 36,
   "id": "27f90351",
   "metadata": {},
   "outputs": [
    {
     "data": {
      "text/plain": [
       "array([5, 6, 7, 8, 9])"
      ]
     },
     "execution_count": 36,
     "metadata": {},
     "output_type": "execute_result"
    }
   ],
   "source": [
    "# se creaza un array unidimensional cu elementele intregi de la 5 la 9\n",
    "ar6 =  np.arange(5, 10)\n",
    "ar6"
   ]
  },
  {
   "cell_type": "code",
   "execution_count": 37,
   "id": "35bc3dd2",
   "metadata": {},
   "outputs": [
    {
     "data": {
      "text/plain": [
       "array([4, 6, 8])"
      ]
     },
     "execution_count": 37,
     "metadata": {},
     "output_type": "execute_result"
    }
   ],
   "source": [
    "# se creaza un array unidimensional cu elementele intregi de la 4 la 9 luate cu pasul 2\n",
    "ar7 =  np.arange(4, 10, 2)\n",
    "ar7"
   ]
  },
  {
   "cell_type": "code",
   "execution_count": 245,
   "id": "9a30367c",
   "metadata": {},
   "outputs": [
    {
     "data": {
      "text/plain": [
       "array([ 0.        ,  0.52631579,  1.05263158,  1.57894737,  2.10526316,\n",
       "        2.63157895,  3.15789474,  3.68421053,  4.21052632,  4.73684211,\n",
       "        5.26315789,  5.78947368,  6.31578947,  6.84210526,  7.36842105,\n",
       "        7.89473684,  8.42105263,  8.94736842,  9.47368421, 10.        ])"
      ]
     },
     "execution_count": 245,
     "metadata": {},
     "output_type": "execute_result"
    }
   ],
   "source": [
    "# se creaza un array format din 20 de elemente situate uniform in intervalul 0 - 10\n",
    "arr12 = np.linspace(0, 10, 20)\n",
    "arr12"
   ]
  },
  {
   "cell_type": "markdown",
   "id": "89c98985",
   "metadata": {},
   "source": [
    "### 2.4. Crearea unui array cu elemente random"
   ]
  },
  {
   "cell_type": "code",
   "execution_count": 104,
   "id": "aa8275b5",
   "metadata": {},
   "outputs": [
    {
     "data": {
      "text/plain": [
       "array([[5, 5, 7, 5, 8],\n",
       "       [9, 3, 2, 2, 3],\n",
       "       [9, 2, 7, 5, 4]])"
      ]
     },
     "execution_count": 104,
     "metadata": {},
     "output_type": "execute_result"
    }
   ],
   "source": [
    "# se creaza un array bidimensional cu elementele random intregi de la 2 la 9\n",
    "ar8 =  np.random.randint(2, 10, size=sp)\n",
    "ar8"
   ]
  },
  {
   "cell_type": "code",
   "execution_count": 105,
   "id": "6b4d645d",
   "metadata": {},
   "outputs": [
    {
     "data": {
      "text/plain": [
       "array([[0.079316  , 0.06766956, 0.49097967, 0.20946683, 0.92522345],\n",
       "       [0.98061055, 0.66963061, 0.58175139, 0.79431745, 0.04670004],\n",
       "       [0.58026021, 0.07451129, 0.16007004, 0.43488873, 0.59376418]])"
      ]
     },
     "execution_count": 105,
     "metadata": {},
     "output_type": "execute_result"
    }
   ],
   "source": [
    "# se creaza un array bidimensional cu elementele random float de la 0 la 0,999...\n",
    "ar9 =  np.random.random(sp)\n",
    "ar9"
   ]
  },
  {
   "cell_type": "code",
   "execution_count": 43,
   "id": "d0720209",
   "metadata": {},
   "outputs": [
    {
     "data": {
      "text/plain": [
       "array([[[0.69615431, 0.6308812 , 0.30878104, 0.07752817, 0.59377636],\n",
       "        [0.62473911, 0.9669843 , 0.35940954, 0.09028768, 0.29817828],\n",
       "        [0.96203645, 0.52321626, 0.72639501, 0.50117861, 0.19708768],\n",
       "        [0.81551691, 0.87542428, 0.64359532, 0.88718885, 0.61950226]],\n",
       "\n",
       "       [[0.92555634, 0.6499454 , 0.9608929 , 0.36543233, 0.21517459],\n",
       "        [0.76141817, 0.66780822, 0.63661828, 0.25300245, 0.81364713],\n",
       "        [0.41096415, 0.98691844, 0.18878282, 0.20240595, 0.73303543],\n",
       "        [0.17480585, 0.14338244, 0.79320081, 0.23380053, 0.17598422]]])"
      ]
     },
     "execution_count": 43,
     "metadata": {},
     "output_type": "execute_result"
    }
   ],
   "source": [
    "# se creaza un array n-dimensional cu elementele random float de la 0 la 0,999...\n",
    "ar10 =  np.random.rand(2, 4, 5)\n",
    "ar10"
   ]
  },
  {
   "cell_type": "markdown",
   "id": "69146654",
   "metadata": {},
   "source": [
    "### 2.5. Setarea elementelor pseudo-random"
   ]
  },
  {
   "cell_type": "code",
   "execution_count": 96,
   "id": "ce5146ae",
   "metadata": {},
   "outputs": [
    {
     "data": {
      "text/plain": [
       "array([[0.67781654, 0.27000797, 0.73519402, 0.96218855, 0.24875314],\n",
       "       [0.57615733, 0.59204193, 0.57225191, 0.22308163, 0.95274901],\n",
       "       [0.44712538, 0.84640867, 0.69947928, 0.29743695, 0.81379782],\n",
       "       [0.39650574, 0.8811032 , 0.58127287, 0.88173536, 0.69253159]])"
      ]
     },
     "execution_count": 96,
     "metadata": {},
     "output_type": "execute_result"
    }
   ],
   "source": [
    "# se creaza un array cu elementele random\n",
    "ar11=np.random.random((4,5))\n",
    "ar11"
   ]
  },
  {
   "cell_type": "code",
   "execution_count": 97,
   "id": "196e592b",
   "metadata": {},
   "outputs": [
    {
     "data": {
      "text/plain": [
       "array([[0.72525428, 0.50132438, 0.95608363, 0.6439902 , 0.42385505],\n",
       "       [0.60639321, 0.0191932 , 0.30157482, 0.66017354, 0.29007761],\n",
       "       [0.61801543, 0.4287687 , 0.13547406, 0.29828233, 0.56996491],\n",
       "       [0.59087276, 0.57432525, 0.65320082, 0.65210327, 0.43141844]])"
      ]
     },
     "execution_count": 97,
     "metadata": {},
     "output_type": "execute_result"
    }
   ],
   "source": [
    "# se repeta procedura de creare a aceluiasi array\n",
    "ar11=np.random.random((4,5))\n",
    "ar11"
   ]
  },
  {
   "cell_type": "code",
   "execution_count": 98,
   "id": "f3c01374",
   "metadata": {},
   "outputs": [
    {
     "data": {
      "text/plain": [
       "array([[0.01037415, 0.50187459, 0.49577329, 0.13382953, 0.14211109],\n",
       "       [0.21855868, 0.41850818, 0.24810117, 0.08405965, 0.34549864],\n",
       "       [0.16677635, 0.87855909, 0.95096403, 0.03874838, 0.69910739],\n",
       "       [0.57275982, 0.89800712, 0.66689897, 0.54783778, 0.70242742]])"
      ]
     },
     "execution_count": 98,
     "metadata": {},
     "output_type": "execute_result"
    }
   ],
   "source": [
    "# seteaza numerele random sa fie pseudo-random si se repeta procedura\n",
    "np.random.seed(9)\n",
    "ar11=np.random.random((4,5))\n",
    "ar11"
   ]
  },
  {
   "cell_type": "code",
   "execution_count": 100,
   "id": "8639017c",
   "metadata": {},
   "outputs": [
    {
     "data": {
      "text/plain": [
       "array([[0.01037415, 0.50187459, 0.49577329, 0.13382953, 0.14211109],\n",
       "       [0.21855868, 0.41850818, 0.24810117, 0.08405965, 0.34549864],\n",
       "       [0.16677635, 0.87855909, 0.95096403, 0.03874838, 0.69910739],\n",
       "       [0.57275982, 0.89800712, 0.66689897, 0.54783778, 0.70242742]])"
      ]
     },
     "execution_count": 100,
     "metadata": {},
     "output_type": "execute_result"
    }
   ],
   "source": [
    "# se repeta procedura de creare a aceluiasi array cu pseudo-random\n",
    "np.random.seed(9)\n",
    "ar11=np.random.random((4,5))\n",
    "ar11"
   ]
  },
  {
   "cell_type": "markdown",
   "id": "afbc32dd",
   "metadata": {},
   "source": [
    "# 3. Vizualizarea in array si matrici"
   ]
  },
  {
   "cell_type": "markdown",
   "id": "e1e4d0ec",
   "metadata": {},
   "source": [
    "### 3.1. Vizualizarea elementelor unice in array"
   ]
  },
  {
   "cell_type": "code",
   "execution_count": 199,
   "id": "a203a9e5",
   "metadata": {},
   "outputs": [
    {
     "data": {
      "text/plain": [
       "array([[5, 5, 7, 5, 8],\n",
       "       [9, 3, 2, 2, 3],\n",
       "       [9, 2, 7, 5, 4]])"
      ]
     },
     "execution_count": 199,
     "metadata": {},
     "output_type": "execute_result"
    }
   ],
   "source": [
    "# se vizualizeaza ar8\n",
    "ar8"
   ]
  },
  {
   "cell_type": "code",
   "execution_count": 109,
   "id": "e54442bd",
   "metadata": {},
   "outputs": [
    {
     "data": {
      "text/plain": [
       "array([2, 3, 4, 5, 7, 8, 9])"
      ]
     },
     "execution_count": 109,
     "metadata": {},
     "output_type": "execute_result"
    }
   ],
   "source": [
    "# determinarea elementelor unice in ar8\n",
    "np.unique(ar8)"
   ]
  },
  {
   "cell_type": "markdown",
   "id": "c71743bd",
   "metadata": {},
   "source": [
    "### 3.2. Selectarea elementelor unui array conform indicelui"
   ]
  },
  {
   "cell_type": "code",
   "execution_count": 111,
   "id": "9ffce4b3",
   "metadata": {},
   "outputs": [
    {
     "data": {
      "text/plain": [
       "array([1, 2, 3])"
      ]
     },
     "execution_count": 111,
     "metadata": {},
     "output_type": "execute_result"
    }
   ],
   "source": [
    "# vizualizarea lui a1\n",
    "a1"
   ]
  },
  {
   "cell_type": "code",
   "execution_count": 112,
   "id": "f40c6fa2",
   "metadata": {},
   "outputs": [
    {
     "data": {
      "text/plain": [
       "2"
      ]
     },
     "execution_count": 112,
     "metadata": {},
     "output_type": "execute_result"
    }
   ],
   "source": [
    "# selectarea elementului de pe pozitia a 2\n",
    "a1[1]"
   ]
  },
  {
   "cell_type": "code",
   "execution_count": 113,
   "id": "2a366df6",
   "metadata": {},
   "outputs": [
    {
     "data": {
      "text/plain": [
       "array([[1. , 2. , 3.3],\n",
       "       [4. , 5. , 6.5]])"
      ]
     },
     "execution_count": 113,
     "metadata": {},
     "output_type": "execute_result"
    }
   ],
   "source": [
    "# vizualizarea lui a2\n",
    "a2"
   ]
  },
  {
   "cell_type": "code",
   "execution_count": 114,
   "id": "58e7954b",
   "metadata": {},
   "outputs": [
    {
     "data": {
      "text/plain": [
       "array([4. , 5. , 6.5])"
      ]
     },
     "execution_count": 114,
     "metadata": {},
     "output_type": "execute_result"
    }
   ],
   "source": [
    "# selectarea elementelor liniei a 2\n",
    "a2[1]"
   ]
  },
  {
   "cell_type": "code",
   "execution_count": 115,
   "id": "099a18e7",
   "metadata": {},
   "outputs": [
    {
     "data": {
      "text/plain": [
       "4.0"
      ]
     },
     "execution_count": 115,
     "metadata": {},
     "output_type": "execute_result"
    }
   ],
   "source": [
    "# selectarea elementului de pe linia a 2 poztia 1\n",
    "a2[1,0]"
   ]
  },
  {
   "cell_type": "code",
   "execution_count": 116,
   "id": "79142000",
   "metadata": {},
   "outputs": [
    {
     "data": {
      "text/plain": [
       "array([[[ 1,  2,  3],\n",
       "        [ 4,  5,  6]],\n",
       "\n",
       "       [[ 7,  8,  9],\n",
       "        [10, 11, 12]],\n",
       "\n",
       "       [[13, 14, 15],\n",
       "        [16, 17, 18]]])"
      ]
     },
     "execution_count": 116,
     "metadata": {},
     "output_type": "execute_result"
    }
   ],
   "source": [
    "# vizualizarea lui a3\n",
    "a3"
   ]
  },
  {
   "cell_type": "code",
   "execution_count": 118,
   "id": "4e988ef9",
   "metadata": {},
   "outputs": [
    {
     "data": {
      "text/plain": [
       "14"
      ]
     },
     "execution_count": 118,
     "metadata": {},
     "output_type": "execute_result"
    }
   ],
   "source": [
    "# selectarea elementului din tabelul 3 linia a 1 pozitia 2\n",
    "a3[2,0,1]"
   ]
  },
  {
   "cell_type": "markdown",
   "id": "b3ed2190",
   "metadata": {},
   "source": [
    "### 3.3. Selectarea elementelor unui array folosind slicing"
   ]
  },
  {
   "cell_type": "code",
   "execution_count": 121,
   "id": "d6caa7f6",
   "metadata": {},
   "outputs": [
    {
     "data": {
      "text/plain": [
       "array([1, 2])"
      ]
     },
     "execution_count": 121,
     "metadata": {},
     "output_type": "execute_result"
    }
   ],
   "source": [
    "# selectarea primelor 2 elemente ale lui a1\n",
    "a1[:2]"
   ]
  },
  {
   "cell_type": "code",
   "execution_count": 122,
   "id": "8a5bb2b0",
   "metadata": {},
   "outputs": [
    {
     "data": {
      "text/plain": [
       "array([[1.],\n",
       "       [4.]])"
      ]
     },
     "execution_count": 122,
     "metadata": {},
     "output_type": "execute_result"
    }
   ],
   "source": [
    "# selectarea primelor elemente din priele 2 linie al lui a2\n",
    "a2[:2,:1]"
   ]
  },
  {
   "cell_type": "code",
   "execution_count": 123,
   "id": "40787bfe",
   "metadata": {},
   "outputs": [
    {
     "data": {
      "text/plain": [
       "array([[[1, 2]],\n",
       "\n",
       "       [[7, 8]]])"
      ]
     },
     "execution_count": 123,
     "metadata": {},
     "output_type": "execute_result"
    }
   ],
   "source": [
    "# selectarea primelor 2 elemente din primele linii al primelor 2 tabele\n",
    "a3[:2,:1,:2]"
   ]
  },
  {
   "cell_type": "markdown",
   "id": "bad59ff4",
   "metadata": {},
   "source": [
    "# 4. Manipularea si compararea array"
   ]
  },
  {
   "cell_type": "markdown",
   "id": "9d8b381d",
   "metadata": {},
   "source": [
    "### 4.1. Operatii aritmetice \"element cu element\""
   ]
  },
  {
   "cell_type": "code",
   "execution_count": 124,
   "id": "f161a480",
   "metadata": {},
   "outputs": [
    {
     "data": {
      "text/plain": [
       "array([1, 2, 3])"
      ]
     },
     "execution_count": 124,
     "metadata": {},
     "output_type": "execute_result"
    }
   ],
   "source": [
    "# Vizualizarea a1\n",
    "a1"
   ]
  },
  {
   "cell_type": "code",
   "execution_count": 125,
   "id": "9de403d3",
   "metadata": {},
   "outputs": [
    {
     "data": {
      "text/plain": [
       "array([7, 9, 3])"
      ]
     },
     "execution_count": 125,
     "metadata": {},
     "output_type": "execute_result"
    }
   ],
   "source": [
    "# creara unui array unidimensional\n",
    "a4 = np.array([7, 9, 3])\n",
    "a4"
   ]
  },
  {
   "cell_type": "code",
   "execution_count": 126,
   "id": "13da929b",
   "metadata": {},
   "outputs": [
    {
     "data": {
      "text/plain": [
       "array([ 8, 11,  6])"
      ]
     },
     "execution_count": 126,
     "metadata": {},
     "output_type": "execute_result"
    }
   ],
   "source": [
    "# Sumarea a1 ai a4 si formarea a5\n",
    "a5 = a1 + a4\n",
    "a5"
   ]
  },
  {
   "cell_type": "code",
   "execution_count": 141,
   "id": "a90ae695",
   "metadata": {},
   "outputs": [
    {
     "data": {
      "text/plain": [
       "array([ 8, 11,  6])"
      ]
     },
     "execution_count": 141,
     "metadata": {},
     "output_type": "execute_result"
    }
   ],
   "source": [
    "# Sumarea a1 ai a4 si folosind functia np.add()\n",
    "a5 = np.add(a1, a4)\n",
    "a5"
   ]
  },
  {
   "cell_type": "code",
   "execution_count": 128,
   "id": "7437c5dd",
   "metadata": {},
   "outputs": [
    {
     "data": {
      "text/plain": [
       "array([6, 7, 0])"
      ]
     },
     "execution_count": 128,
     "metadata": {},
     "output_type": "execute_result"
    }
   ],
   "source": [
    "# Scaderea lui a1 din a4 si formarea a6\n",
    "a6 = a4 - a1\n",
    "a6"
   ]
  },
  {
   "cell_type": "code",
   "execution_count": 131,
   "id": "c792e4bd",
   "metadata": {},
   "outputs": [
    {
     "data": {
      "text/plain": [
       "array([ 6, 14,  0])"
      ]
     },
     "execution_count": 131,
     "metadata": {},
     "output_type": "execute_result"
    }
   ],
   "source": [
    "# Imultirea a1 cu a6 si formarea a7\n",
    "a7 = a1 * a6\n",
    "a7"
   ]
  },
  {
   "cell_type": "code",
   "execution_count": 133,
   "id": "c70e5b73",
   "metadata": {},
   "outputs": [
    {
     "data": {
      "text/plain": [
       "array([[1. , 2. , 3.3],\n",
       "       [4. , 5. , 6.5]])"
      ]
     },
     "execution_count": 133,
     "metadata": {},
     "output_type": "execute_result"
    }
   ],
   "source": [
    "# Vizualizarea a2\n",
    "a2"
   ]
  },
  {
   "cell_type": "code",
   "execution_count": 134,
   "id": "d4ebcbb1",
   "metadata": {},
   "outputs": [
    {
     "data": {
      "text/plain": [
       "array([[ 6., 14.,  0.],\n",
       "       [24., 35.,  0.]])"
      ]
     },
     "execution_count": 134,
     "metadata": {},
     "output_type": "execute_result"
    }
   ],
   "source": [
    "# Imultirea a2 cu a6 si formarea a8\n",
    "a8 = a2 * a6\n",
    "a8"
   ]
  },
  {
   "cell_type": "code",
   "execution_count": 137,
   "id": "23e4fe38",
   "metadata": {},
   "outputs": [
    {
     "data": {
      "text/plain": [
       "array([8. , 5.5, 2. ])"
      ]
     },
     "execution_count": 137,
     "metadata": {},
     "output_type": "execute_result"
    }
   ],
   "source": [
    "# Impartirea a5 la a1 si formarea a9\n",
    "a9 = a5 / a1\n",
    "a9"
   ]
  },
  {
   "cell_type": "code",
   "execution_count": 138,
   "id": "2cbfd017",
   "metadata": {},
   "outputs": [
    {
     "data": {
      "text/plain": [
       "array([8, 5, 2], dtype=int32)"
      ]
     },
     "execution_count": 138,
     "metadata": {},
     "output_type": "execute_result"
    }
   ],
   "source": [
    "# Impartirea cu rotungire a5 la a1 si formarea a10\n",
    "a10 = a5 // a1\n",
    "a10"
   ]
  },
  {
   "cell_type": "code",
   "execution_count": 139,
   "id": "b81fdf20",
   "metadata": {},
   "outputs": [
    {
     "data": {
      "text/plain": [
       "array([[ 1.  ,  4.  , 10.89],\n",
       "       [16.  , 25.  , 42.25]])"
      ]
     },
     "execution_count": 139,
     "metadata": {},
     "output_type": "execute_result"
    }
   ],
   "source": [
    "# Ridicarea lui a2 la patrat\n",
    "a11 = a2 **2\n",
    "a11"
   ]
  },
  {
   "cell_type": "code",
   "execution_count": 140,
   "id": "5df59531",
   "metadata": {},
   "outputs": [
    {
     "data": {
      "text/plain": [
       "array([[ 1.  ,  4.  , 10.89],\n",
       "       [16.  , 25.  , 42.25]])"
      ]
     },
     "execution_count": 140,
     "metadata": {},
     "output_type": "execute_result"
    }
   ],
   "source": [
    "# Ridicarea lui a2 la patrat utilizand functia np.square()\n",
    "a12=np.square(a2)\n",
    "a12"
   ]
  },
  {
   "cell_type": "code",
   "execution_count": 142,
   "id": "e149783d",
   "metadata": {},
   "outputs": [
    {
     "data": {
      "text/plain": [
       "array([[1. , 0. , 1.3],\n",
       "       [0. , 1. , 0.5]])"
      ]
     },
     "execution_count": 142,
     "metadata": {},
     "output_type": "execute_result"
    }
   ],
   "source": [
    "# Determinarea restului divizarii lui a2 la 2\n",
    "a13 = a2 % 2\n",
    "a13"
   ]
  },
  {
   "cell_type": "code",
   "execution_count": 143,
   "id": "f76c162e",
   "metadata": {},
   "outputs": [
    {
     "data": {
      "text/plain": [
       "array([ 2.71828183,  7.3890561 , 20.08553692])"
      ]
     },
     "execution_count": 143,
     "metadata": {},
     "output_type": "execute_result"
    }
   ],
   "source": [
    "# Determinarea exponentei lui a1\n",
    "a14 = np.exp(a1)\n",
    "a14"
   ]
  },
  {
   "cell_type": "code",
   "execution_count": 146,
   "id": "79856fe0",
   "metadata": {},
   "outputs": [
    {
     "data": {
      "text/plain": [
       "array([0.        , 0.69314718, 1.09861229])"
      ]
     },
     "execution_count": 146,
     "metadata": {},
     "output_type": "execute_result"
    }
   ],
   "source": [
    "# Determinarea logaritmului natural al lui a1\n",
    "a15 = np.log(a1)\n",
    "a15"
   ]
  },
  {
   "cell_type": "markdown",
   "id": "58f3baed",
   "metadata": {},
   "source": [
    "### 4.2. Operatii de agregare"
   ]
  },
  {
   "cell_type": "code",
   "execution_count": 149,
   "id": "b8756d3f",
   "metadata": {},
   "outputs": [
    {
     "data": {
      "text/plain": [
       "array([8, 5, 2], dtype=int32)"
      ]
     },
     "execution_count": 149,
     "metadata": {},
     "output_type": "execute_result"
    }
   ],
   "source": [
    "# vizualizare lui a10\n",
    "a10"
   ]
  },
  {
   "cell_type": "code",
   "execution_count": 150,
   "id": "c5d51bc8",
   "metadata": {},
   "outputs": [
    {
     "data": {
      "text/plain": [
       "15"
      ]
     },
     "execution_count": 150,
     "metadata": {},
     "output_type": "execute_result"
    }
   ],
   "source": [
    "# Determinarea sumei tuturor elemtelor cu functia sum() din python\n",
    "sum(a10)"
   ]
  },
  {
   "cell_type": "code",
   "execution_count": 151,
   "id": "a6f86b30",
   "metadata": {},
   "outputs": [
    {
     "data": {
      "text/plain": [
       "15"
      ]
     },
     "execution_count": 151,
     "metadata": {},
     "output_type": "execute_result"
    }
   ],
   "source": [
    "# Determinarea sumei tuturor elemtelor cu functia sum() din numpy\n",
    "np.sum(a10)"
   ]
  },
  {
   "cell_type": "code",
   "execution_count": 152,
   "id": "63890440",
   "metadata": {},
   "outputs": [],
   "source": [
    "# crearea unui array imens\n",
    "arr_imens = np.random.random(100000)"
   ]
  },
  {
   "cell_type": "code",
   "execution_count": 153,
   "id": "be136ae9",
   "metadata": {},
   "outputs": [
    {
     "data": {
      "text/plain": [
       "100000"
      ]
     },
     "execution_count": 153,
     "metadata": {},
     "output_type": "execute_result"
    }
   ],
   "source": [
    "# vizualizarea numarului de elemnte in arr_imens\n",
    "arr_imens.size"
   ]
  },
  {
   "cell_type": "code",
   "execution_count": 154,
   "id": "2eb9c983",
   "metadata": {},
   "outputs": [
    {
     "data": {
      "text/plain": [
       "array([0.14015816, 0.89892299, 0.97871952, 0.92973789, 0.39278113,\n",
       "       0.28933945, 0.31675249, 0.98689438, 0.04285168, 0.17011414])"
      ]
     },
     "execution_count": 154,
     "metadata": {},
     "output_type": "execute_result"
    }
   ],
   "source": [
    "# vizualizarea primelor 10 elemente\n",
    "arr_imens[:10]"
   ]
  },
  {
   "cell_type": "code",
   "execution_count": 155,
   "id": "e766ba9e",
   "metadata": {},
   "outputs": [
    {
     "name": "stdout",
     "output_type": "stream",
     "text": [
      "5.37 ms ± 57.8 µs per loop (mean ± std. dev. of 7 runs, 100 loops each)\n"
     ]
    }
   ],
   "source": [
    "# determinarea timpului de executie a operatiei sum() din python cu functia magica %timeit\n",
    "%timeit sum(arr_imens)"
   ]
  },
  {
   "cell_type": "code",
   "execution_count": 156,
   "id": "61f5e480",
   "metadata": {},
   "outputs": [
    {
     "name": "stdout",
     "output_type": "stream",
     "text": [
      "32 µs ± 331 ns per loop (mean ± std. dev. of 7 runs, 10000 loops each)\n"
     ]
    }
   ],
   "source": [
    "# determinarea timpului de executie a operatiei np.sum() din numpy cu functia magica %timeit\n",
    "%timeit np.sum(arr_imens)"
   ]
  },
  {
   "cell_type": "code",
   "execution_count": 157,
   "id": "647132df",
   "metadata": {},
   "outputs": [
    {
     "data": {
      "text/plain": [
       "167.8125"
      ]
     },
     "execution_count": 157,
     "metadata": {},
     "output_type": "execute_result"
    }
   ],
   "source": [
    "# determinarea raportului dintre timpul de executie a opertiilor python si numpy\n",
    "5370/32"
   ]
  },
  {
   "cell_type": "code",
   "execution_count": 159,
   "id": "c27eacd7",
   "metadata": {},
   "outputs": [
    {
     "data": {
      "text/plain": [
       "array([[1. , 2. , 3.3],\n",
       "       [4. , 5. , 6.5]])"
      ]
     },
     "execution_count": 159,
     "metadata": {},
     "output_type": "execute_result"
    }
   ],
   "source": [
    "# vizualizare lui a2\n",
    "a2"
   ]
  },
  {
   "cell_type": "code",
   "execution_count": 160,
   "id": "2b4295fd",
   "metadata": {},
   "outputs": [
    {
     "data": {
      "text/plain": [
       "3.6333333333333333"
      ]
     },
     "execution_count": 160,
     "metadata": {},
     "output_type": "execute_result"
    }
   ],
   "source": [
    "# Determinarea valorii medii a elementelor din a2\n",
    "np.mean(a2)"
   ]
  },
  {
   "cell_type": "code",
   "execution_count": 161,
   "id": "1c3e873b",
   "metadata": {},
   "outputs": [
    {
     "data": {
      "text/plain": [
       "6.5"
      ]
     },
     "execution_count": 161,
     "metadata": {},
     "output_type": "execute_result"
    }
   ],
   "source": [
    "# Determinarea valorii maxime a elementelor din a2\n",
    "np.max(a2)"
   ]
  },
  {
   "cell_type": "code",
   "execution_count": 162,
   "id": "1f8930cb",
   "metadata": {},
   "outputs": [
    {
     "data": {
      "text/plain": [
       "1.0"
      ]
     },
     "execution_count": 162,
     "metadata": {},
     "output_type": "execute_result"
    }
   ],
   "source": [
    "# Determinarea valorii minime a elementelor din a2\n",
    "np.min(a2)"
   ]
  },
  {
   "cell_type": "code",
   "execution_count": 163,
   "id": "84adf913",
   "metadata": {},
   "outputs": [
    {
     "data": {
      "text/plain": [
       "1.8226964152656422"
      ]
     },
     "execution_count": 163,
     "metadata": {},
     "output_type": "execute_result"
    }
   ],
   "source": [
    "# Determinarea valorii abaterii medii standart a tuturor elementelor din a2\n",
    "np.std(a2)"
   ]
  },
  {
   "cell_type": "code",
   "execution_count": 164,
   "id": "42e44e44",
   "metadata": {},
   "outputs": [
    {
     "data": {
      "text/plain": [
       "array([1.5, 1.5, 1.6])"
      ]
     },
     "execution_count": 164,
     "metadata": {},
     "output_type": "execute_result"
    }
   ],
   "source": [
    "# Determinarea valorii abaterii medii standart a elementelor pe coloane in a2\n",
    "np.std(a2, axis=0)"
   ]
  },
  {
   "cell_type": "code",
   "execution_count": 165,
   "id": "5bfc3a04",
   "metadata": {},
   "outputs": [
    {
     "data": {
      "text/plain": [
       "array([0.94162979, 1.02740233])"
      ]
     },
     "execution_count": 165,
     "metadata": {},
     "output_type": "execute_result"
    }
   ],
   "source": [
    "# Determinarea valorii abaterii medii standart a elementelor pe linie in a2\n",
    "np.std(a2, axis=1)"
   ]
  },
  {
   "cell_type": "code",
   "execution_count": 166,
   "id": "d51aa2aa",
   "metadata": {},
   "outputs": [
    {
     "data": {
      "text/plain": [
       "3.3222222222222224"
      ]
     },
     "execution_count": 166,
     "metadata": {},
     "output_type": "execute_result"
    }
   ],
   "source": [
    "# Determinarea valorii abaterii medii patratice a tuturor elementelor din a2\n",
    "np.var(a2)"
   ]
  },
  {
   "cell_type": "code",
   "execution_count": 167,
   "id": "290ea58e",
   "metadata": {},
   "outputs": [
    {
     "data": {
      "text/plain": [
       "array([0.88666667, 1.05555556])"
      ]
     },
     "execution_count": 167,
     "metadata": {},
     "output_type": "execute_result"
    }
   ],
   "source": [
    "# Determinarea valorii abaterii medii patratice a elementelor pe linie in a2\n",
    "np.var(a2, axis=1)"
   ]
  },
  {
   "cell_type": "code",
   "execution_count": 171,
   "id": "578af55a",
   "metadata": {},
   "outputs": [
    {
     "data": {
      "text/plain": [
       "1.027402335991115"
      ]
     },
     "execution_count": 171,
     "metadata": {},
     "output_type": "execute_result"
    }
   ],
   "source": [
    "np.sqrt(1.05555556)"
   ]
  },
  {
   "cell_type": "markdown",
   "id": "5539b807",
   "metadata": {},
   "source": [
    "### 4.3. Modificare formei unui array"
   ]
  },
  {
   "cell_type": "markdown",
   "id": "a5a96d9f",
   "metadata": {},
   "source": [
    "Cand se realizaza operatii cu doua variabile de tip array, NumPy compara formele acestora, iar pentru aceasta trebuie sa se respecte una din cele 2 reguli\n",
    "* formele trebuie sa fie identice\n",
    "* o dimensiune trebuie sa fie 1"
   ]
  },
  {
   "cell_type": "code",
   "execution_count": 172,
   "id": "34ea1560",
   "metadata": {},
   "outputs": [
    {
     "data": {
      "text/plain": [
       "array([[1. , 2. , 3.3],\n",
       "       [4. , 5. , 6.5]])"
      ]
     },
     "execution_count": 172,
     "metadata": {},
     "output_type": "execute_result"
    }
   ],
   "source": [
    "# vizualizarea lui a2\n",
    "a2"
   ]
  },
  {
   "cell_type": "code",
   "execution_count": 173,
   "id": "9d891d70",
   "metadata": {},
   "outputs": [
    {
     "data": {
      "text/plain": [
       "(2, 3)"
      ]
     },
     "execution_count": 173,
     "metadata": {},
     "output_type": "execute_result"
    }
   ],
   "source": [
    "# vizualizarea formei lui a2\n",
    "a2.shape"
   ]
  },
  {
   "cell_type": "code",
   "execution_count": 174,
   "id": "ef736606",
   "metadata": {},
   "outputs": [
    {
     "data": {
      "text/plain": [
       "2"
      ]
     },
     "execution_count": 174,
     "metadata": {},
     "output_type": "execute_result"
    }
   ],
   "source": [
    "# vizualizarea numarului dimensiunii lui a2\n",
    "a2.ndim"
   ]
  },
  {
   "cell_type": "code",
   "execution_count": 180,
   "id": "2d5a5994",
   "metadata": {},
   "outputs": [
    {
     "data": {
      "text/plain": [
       "array([[[ 1,  2,  3],\n",
       "        [ 4,  5,  6]],\n",
       "\n",
       "       [[ 7,  8,  9],\n",
       "        [10, 11, 12]],\n",
       "\n",
       "       [[13, 14, 15],\n",
       "        [16, 17, 18]]])"
      ]
     },
     "execution_count": 180,
     "metadata": {},
     "output_type": "execute_result"
    }
   ],
   "source": [
    "# vizualizarea lui a3\n",
    "a3"
   ]
  },
  {
   "cell_type": "code",
   "execution_count": 181,
   "id": "e6ffce4a",
   "metadata": {},
   "outputs": [
    {
     "data": {
      "text/plain": [
       "(3, 2, 3)"
      ]
     },
     "execution_count": 181,
     "metadata": {},
     "output_type": "execute_result"
    }
   ],
   "source": [
    "# vizualizarea formei lui a3\n",
    "a3.shape"
   ]
  },
  {
   "cell_type": "code",
   "execution_count": 182,
   "id": "a50b1025",
   "metadata": {},
   "outputs": [
    {
     "data": {
      "text/plain": [
       "3"
      ]
     },
     "execution_count": 182,
     "metadata": {},
     "output_type": "execute_result"
    }
   ],
   "source": [
    "# vizualizarea numarului dimensiunii lui a3\n",
    "a3.ndim"
   ]
  },
  {
   "cell_type": "markdown",
   "id": "64e14774",
   "metadata": {},
   "source": [
    "Daca se incerca imultirea a2*a3 se obtine o eroare deoarece formele nu respecta nici una din cele 2 reguli "
   ]
  },
  {
   "cell_type": "code",
   "execution_count": 183,
   "id": "6245a104",
   "metadata": {},
   "outputs": [
    {
     "data": {
      "text/plain": [
       "array([[[1. , 2. , 3.3],\n",
       "        [4. , 5. , 6.5]]])"
      ]
     },
     "execution_count": 183,
     "metadata": {},
     "output_type": "execute_result"
    }
   ],
   "source": [
    "# modificarea formei lui a2\n",
    "a6 = a2.reshape(1,2,3)\n",
    "a6"
   ]
  },
  {
   "cell_type": "code",
   "execution_count": 184,
   "id": "d916d372",
   "metadata": {},
   "outputs": [
    {
     "data": {
      "text/plain": [
       "(1, 2, 3)"
      ]
     },
     "execution_count": 184,
     "metadata": {},
     "output_type": "execute_result"
    }
   ],
   "source": [
    "# vizualizarea formei lui a6\n",
    "a6.shape"
   ]
  },
  {
   "cell_type": "code",
   "execution_count": 185,
   "id": "56e5681e",
   "metadata": {},
   "outputs": [
    {
     "data": {
      "text/plain": [
       "3"
      ]
     },
     "execution_count": 185,
     "metadata": {},
     "output_type": "execute_result"
    }
   ],
   "source": [
    "# vizualizarea numarului dimensiunii lui a6\n",
    "a6.ndim"
   ]
  },
  {
   "cell_type": "code",
   "execution_count": 186,
   "id": "06df373b",
   "metadata": {},
   "outputs": [
    {
     "data": {
      "text/plain": [
       "array([[[  1. ,   4. ,   9.9],\n",
       "        [ 16. ,  25. ,  39. ]],\n",
       "\n",
       "       [[  7. ,  16. ,  29.7],\n",
       "        [ 40. ,  55. ,  78. ]],\n",
       "\n",
       "       [[ 13. ,  28. ,  49.5],\n",
       "        [ 64. ,  85. , 117. ]]])"
      ]
     },
     "execution_count": 186,
     "metadata": {},
     "output_type": "execute_result"
    }
   ],
   "source": [
    "# se realizeaza operatia de imultirea a2*a3\n",
    "a2*a3"
   ]
  },
  {
   "cell_type": "markdown",
   "id": "3bfabdd2",
   "metadata": {},
   "source": [
    "### 4.4. Transpusa  unui array"
   ]
  },
  {
   "cell_type": "code",
   "execution_count": 187,
   "id": "21c03be2",
   "metadata": {},
   "outputs": [
    {
     "data": {
      "text/plain": [
       "array([[1. , 2. , 3.3],\n",
       "       [4. , 5. , 6.5]])"
      ]
     },
     "execution_count": 187,
     "metadata": {},
     "output_type": "execute_result"
    }
   ],
   "source": [
    "# vizualizarea lui a2\n",
    "a2"
   ]
  },
  {
   "cell_type": "code",
   "execution_count": 188,
   "id": "b861c8b8",
   "metadata": {},
   "outputs": [
    {
     "data": {
      "text/plain": [
       "(2, 3)"
      ]
     },
     "execution_count": 188,
     "metadata": {},
     "output_type": "execute_result"
    }
   ],
   "source": [
    "# vizualizarea formei lui a2\n",
    "a2.shape"
   ]
  },
  {
   "cell_type": "code",
   "execution_count": 189,
   "id": "e107a0c3",
   "metadata": {},
   "outputs": [
    {
     "data": {
      "text/plain": [
       "2"
      ]
     },
     "execution_count": 189,
     "metadata": {},
     "output_type": "execute_result"
    }
   ],
   "source": [
    "# vizualizarea numarului dimensiunii lui a2\n",
    "a2.ndim"
   ]
  },
  {
   "cell_type": "code",
   "execution_count": 190,
   "id": "90ac99cb",
   "metadata": {},
   "outputs": [
    {
     "data": {
      "text/plain": [
       "array([[1. , 4. ],\n",
       "       [2. , 5. ],\n",
       "       [3.3, 6.5]])"
      ]
     },
     "execution_count": 190,
     "metadata": {},
     "output_type": "execute_result"
    }
   ],
   "source": [
    "# obtinerea transpusei lui a2\n",
    "a7 = a2.T\n",
    "a7"
   ]
  },
  {
   "cell_type": "code",
   "execution_count": 191,
   "id": "ec7c8baa",
   "metadata": {},
   "outputs": [
    {
     "data": {
      "text/plain": [
       "(3, 2)"
      ]
     },
     "execution_count": 191,
     "metadata": {},
     "output_type": "execute_result"
    }
   ],
   "source": [
    "# vizualizarea formei lui a7\n",
    "a7.shape"
   ]
  },
  {
   "cell_type": "code",
   "execution_count": 192,
   "id": "d6733cd0",
   "metadata": {},
   "outputs": [
    {
     "data": {
      "text/plain": [
       "2"
      ]
     },
     "execution_count": 192,
     "metadata": {},
     "output_type": "execute_result"
    }
   ],
   "source": [
    "# vizualizarea numarului dimensiunii lui a7\n",
    "a7.ndim"
   ]
  },
  {
   "cell_type": "markdown",
   "id": "5af8d4a2",
   "metadata": {},
   "source": [
    "### 4.5. Operatorul DOT product"
   ]
  },
  {
   "cell_type": "code",
   "execution_count": 194,
   "id": "6859f2a1",
   "metadata": {},
   "outputs": [],
   "source": [
    "# se creaza 2 matrice de aceleasi dimensiuni\n",
    "np.random.seed(9)\n",
    "\n",
    "mat1=np.random.randint(10, size=(3,4))\n",
    "mat2=np.random.randint(10, size=(3,4))"
   ]
  },
  {
   "cell_type": "code",
   "execution_count": 195,
   "id": "a880ebe6",
   "metadata": {},
   "outputs": [
    {
     "data": {
      "text/plain": [
       "array([[5, 6, 8, 6],\n",
       "       [1, 6, 4, 8],\n",
       "       [1, 8, 5, 1]])"
      ]
     },
     "execution_count": 195,
     "metadata": {},
     "output_type": "execute_result"
    }
   ],
   "source": [
    "# vizualizarea lui mat1\n",
    "mat1"
   ]
  },
  {
   "cell_type": "code",
   "execution_count": 196,
   "id": "6d65f250",
   "metadata": {},
   "outputs": [
    {
     "data": {
      "text/plain": [
       "array([[0, 8, 8, 8],\n",
       "       [2, 6, 8, 1],\n",
       "       [8, 3, 5, 3]])"
      ]
     },
     "execution_count": 196,
     "metadata": {},
     "output_type": "execute_result"
    }
   ],
   "source": [
    "# vizualizarea lui mat2\n",
    "mat2"
   ]
  },
  {
   "cell_type": "code",
   "execution_count": 198,
   "id": "25d0f57e",
   "metadata": {},
   "outputs": [
    {
     "data": {
      "text/plain": [
       "((3, 4), (3, 4))"
      ]
     },
     "execution_count": 198,
     "metadata": {},
     "output_type": "execute_result"
    }
   ],
   "source": [
    "# vizualizarea formelor lui mat1 si mat2\n",
    "mat1.shape, mat2.shape"
   ]
  },
  {
   "cell_type": "code",
   "execution_count": 197,
   "id": "e4de0420",
   "metadata": {},
   "outputs": [
    {
     "data": {
      "text/plain": [
       "array([[ 0, 48, 64, 48],\n",
       "       [ 2, 36, 32,  8],\n",
       "       [ 8, 24, 25,  3]])"
      ]
     },
     "execution_count": 197,
     "metadata": {},
     "output_type": "execute_result"
    }
   ],
   "source": [
    "# imultirea \"element cu element\" a mat1 si mat2 (Hadamard product)\n",
    "mat1 * mat2"
   ]
  },
  {
   "cell_type": "markdown",
   "id": "fd88bfd9",
   "metadata": {},
   "source": [
    "Pentru realizarea operatiei `DOT product` dintre 2 matrici de formele (m,n) si (x,y) este necesar ca n=x iar matricea rezultanta va avea forma (m,y).\n",
    "Mai multe se pot gasi pe adresele:\n",
    "https://www.mathsisfun.com/algebra/matrix-multiplying.html\n",
    "\n",
    "http://matrixmultiplication.xyz/"
   ]
  },
  {
   "cell_type": "code",
   "execution_count": 202,
   "id": "3a4c6db1",
   "metadata": {},
   "outputs": [
    {
     "data": {
      "text/plain": [
       "array([[0, 2, 8],\n",
       "       [8, 6, 3],\n",
       "       [8, 8, 5],\n",
       "       [8, 1, 3]])"
      ]
     },
     "execution_count": 202,
     "metadata": {},
     "output_type": "execute_result"
    }
   ],
   "source": [
    "# determinarea transpusei lui m2\n",
    "mat2_T = mat2.T\n",
    "mat2_T"
   ]
  },
  {
   "cell_type": "code",
   "execution_count": 203,
   "id": "ff212162",
   "metadata": {},
   "outputs": [
    {
     "data": {
      "text/plain": [
       "(4, 3)"
      ]
     },
     "execution_count": 203,
     "metadata": {},
     "output_type": "execute_result"
    }
   ],
   "source": [
    "# vizualizarea formei lui mat2_T\n",
    "mat2_T.shape"
   ]
  },
  {
   "cell_type": "code",
   "execution_count": 204,
   "id": "2340c3f8",
   "metadata": {},
   "outputs": [
    {
     "data": {
      "text/plain": [
       "array([[160, 116, 116],\n",
       "       [144,  78,  70],\n",
       "       [112,  91,  60]])"
      ]
     },
     "execution_count": 204,
     "metadata": {},
     "output_type": "execute_result"
    }
   ],
   "source": [
    "# realizarea operatiei dot product dintre mat1 si mat2_T\n",
    "mat3 = np.dot(mat1, mat2_T)\n",
    "mat3"
   ]
  },
  {
   "cell_type": "code",
   "execution_count": 205,
   "id": "2b1953b2",
   "metadata": {},
   "outputs": [
    {
     "data": {
      "text/plain": [
       "(3, 3)"
      ]
     },
     "execution_count": 205,
     "metadata": {},
     "output_type": "execute_result"
    }
   ],
   "source": [
    "# vizualizarea formei lui mat3\n",
    "mat3.shape"
   ]
  },
  {
   "cell_type": "code",
   "execution_count": 206,
   "id": "64f79bd2",
   "metadata": {},
   "outputs": [
    {
     "data": {
      "text/plain": [
       "array([[ 10,  76,  48,  24],\n",
       "       [ 49, 108, 103,  99],\n",
       "       [ 53, 136, 121, 117],\n",
       "       [ 44,  78,  83,  59]])"
      ]
     },
     "execution_count": 206,
     "metadata": {},
     "output_type": "execute_result"
    }
   ],
   "source": [
    "# realizarea operatiei dot product dintre mat2_T si mat1\n",
    "mat4 = np.dot(mat2_T, mat1)\n",
    "mat4"
   ]
  },
  {
   "cell_type": "code",
   "execution_count": 207,
   "id": "cc58776f",
   "metadata": {},
   "outputs": [
    {
     "data": {
      "text/plain": [
       "(4, 4)"
      ]
     },
     "execution_count": 207,
     "metadata": {},
     "output_type": "execute_result"
    }
   ],
   "source": [
    "# vizualizarea formei lui mat4\n",
    "mat4.shape"
   ]
  },
  {
   "cell_type": "markdown",
   "id": "31d2c869",
   "metadata": {},
   "source": [
    "### 4.6. Comparison Operators "
   ]
  },
  {
   "cell_type": "code",
   "execution_count": 235,
   "id": "8bd5a566",
   "metadata": {},
   "outputs": [
    {
     "data": {
      "text/plain": [
       "array([1, 2, 3])"
      ]
     },
     "execution_count": 235,
     "metadata": {},
     "output_type": "execute_result"
    }
   ],
   "source": [
    "# vizualizarea lui a1\n",
    "a1"
   ]
  },
  {
   "cell_type": "code",
   "execution_count": 236,
   "id": "d780e55f",
   "metadata": {},
   "outputs": [
    {
     "data": {
      "text/plain": [
       "array([[1. , 2. , 3.3],\n",
       "       [4. , 5. , 6.5]])"
      ]
     },
     "execution_count": 236,
     "metadata": {},
     "output_type": "execute_result"
    }
   ],
   "source": [
    "# vizualizarea lui a2\n",
    "a2"
   ]
  },
  {
   "cell_type": "code",
   "execution_count": 237,
   "id": "02ef7caa",
   "metadata": {},
   "outputs": [
    {
     "data": {
      "text/plain": [
       "array([[False, False, False],\n",
       "       [False, False, False]])"
      ]
     },
     "execution_count": 237,
     "metadata": {},
     "output_type": "execute_result"
    }
   ],
   "source": [
    "# compararea a1 cu a2\n",
    "a1 > a2"
   ]
  },
  {
   "cell_type": "code",
   "execution_count": 238,
   "id": "11414c1e",
   "metadata": {},
   "outputs": [
    {
     "data": {
      "text/plain": [
       "array([[ True,  True, False],\n",
       "       [False, False, False]])"
      ]
     },
     "execution_count": 238,
     "metadata": {},
     "output_type": "execute_result"
    }
   ],
   "source": [
    "# compararea a1 cu a2 si formarea lui a11\n",
    "a11 = a1 >= a2\n",
    "a11"
   ]
  },
  {
   "cell_type": "code",
   "execution_count": 239,
   "id": "9df424b6",
   "metadata": {},
   "outputs": [
    {
     "data": {
      "text/plain": [
       "numpy.ndarray"
      ]
     },
     "execution_count": 239,
     "metadata": {},
     "output_type": "execute_result"
    }
   ],
   "source": [
    "# vizualizarea tipului lui a11\n",
    "type(a11)"
   ]
  },
  {
   "cell_type": "code",
   "execution_count": 240,
   "id": "f48d0b87",
   "metadata": {},
   "outputs": [
    {
     "data": {
      "text/plain": [
       "dtype('bool')"
      ]
     },
     "execution_count": 240,
     "metadata": {},
     "output_type": "execute_result"
    }
   ],
   "source": [
    "# vizualizarea tipului elementelor lui a11\n",
    "a11.dtype"
   ]
  },
  {
   "cell_type": "code",
   "execution_count": 242,
   "id": "f8a27bfc",
   "metadata": {},
   "outputs": [
    {
     "data": {
      "text/plain": [
       "array([[False, False, False],\n",
       "       [False,  True,  True]])"
      ]
     },
     "execution_count": 242,
     "metadata": {},
     "output_type": "execute_result"
    }
   ],
   "source": [
    "# compararea a2 cu un numar scalar\n",
    "a2 >= 5"
   ]
  },
  {
   "cell_type": "code",
   "execution_count": 243,
   "id": "2876a851",
   "metadata": {},
   "outputs": [
    {
     "data": {
      "text/plain": [
       "array([[ True,  True,  True],\n",
       "       [ True,  True,  True]])"
      ]
     },
     "execution_count": 243,
     "metadata": {},
     "output_type": "execute_result"
    }
   ],
   "source": [
    "# compararea a2 cu a2\n",
    "a2 == a2"
   ]
  },
  {
   "cell_type": "markdown",
   "id": "25bd0c67",
   "metadata": {},
   "source": [
    "# 5. Utilizarea NumPy: Vanzare Fructe"
   ]
  },
  {
   "cell_type": "markdown",
   "id": "ddfd25f9",
   "metadata": {},
   "source": [
    "In exemplu se determina cati lei s-au obtinut zilnic din vanzarea a trei tipuri de fructe: cirese, capsune si zmeura. Cantitatea vanzarilor si pretul per kg sunt specificate in fisierul Vanzari_fructe.xlsx"
   ]
  },
  {
   "cell_type": "code",
   "execution_count": 209,
   "id": "25950d83",
   "metadata": {},
   "outputs": [
    {
     "data": {
      "text/plain": [
       "array([[20, 14, 23],\n",
       "       [31, 41, 14],\n",
       "       [15, 21, 34],\n",
       "       [19, 21, 26],\n",
       "       [13, 17, 11],\n",
       "       [23, 14,  6],\n",
       "       [27, 18,  9]])"
      ]
     },
     "execution_count": 209,
     "metadata": {},
     "output_type": "execute_result"
    }
   ],
   "source": [
    "# se creaza o matrice NumPy cu vanzarile zilnice:\n",
    "vanzari_cantitate= np.array([[20, 14, 23], \n",
    "                             [31, 41, 14],\n",
    "                             [15, 21, 34],\n",
    "                             [19, 21, 26],\n",
    "                             [13, 17, 11],\n",
    "                             [23, 14, 6],\n",
    "                             [27, 18, 9]])\n",
    "vanzari_cantitate"
   ]
  },
  {
   "cell_type": "code",
   "execution_count": 217,
   "id": "b43f15c7",
   "metadata": {},
   "outputs": [
    {
     "data": {
      "text/plain": [
       "((7, 3), 2)"
      ]
     },
     "execution_count": 217,
     "metadata": {},
     "output_type": "execute_result"
    }
   ],
   "source": [
    "# se vizualizeaza forma si numarul de dimensiuni a lui vanzari_cantitate\n",
    "vanzari_cantitate.shape, vanzari_cantitate.ndim"
   ]
  },
  {
   "cell_type": "code",
   "execution_count": 211,
   "id": "51f26d7c",
   "metadata": {},
   "outputs": [
    {
     "data": {
      "text/html": [
       "<div>\n",
       "<style scoped>\n",
       "    .dataframe tbody tr th:only-of-type {\n",
       "        vertical-align: middle;\n",
       "    }\n",
       "\n",
       "    .dataframe tbody tr th {\n",
       "        vertical-align: top;\n",
       "    }\n",
       "\n",
       "    .dataframe thead th {\n",
       "        text-align: right;\n",
       "    }\n",
       "</style>\n",
       "<table border=\"1\" class=\"dataframe\">\n",
       "  <thead>\n",
       "    <tr style=\"text-align: right;\">\n",
       "      <th></th>\n",
       "      <th>Cirese (kg)</th>\n",
       "      <th>Capsune (kg)</th>\n",
       "      <th>Zmeura (kg)</th>\n",
       "    </tr>\n",
       "  </thead>\n",
       "  <tbody>\n",
       "    <tr>\n",
       "      <th>Luni</th>\n",
       "      <td>20</td>\n",
       "      <td>14</td>\n",
       "      <td>23</td>\n",
       "    </tr>\n",
       "    <tr>\n",
       "      <th>Marti</th>\n",
       "      <td>31</td>\n",
       "      <td>41</td>\n",
       "      <td>14</td>\n",
       "    </tr>\n",
       "    <tr>\n",
       "      <th>Miercuri</th>\n",
       "      <td>15</td>\n",
       "      <td>21</td>\n",
       "      <td>34</td>\n",
       "    </tr>\n",
       "    <tr>\n",
       "      <th>Joi</th>\n",
       "      <td>19</td>\n",
       "      <td>21</td>\n",
       "      <td>26</td>\n",
       "    </tr>\n",
       "    <tr>\n",
       "      <th>Vineri</th>\n",
       "      <td>13</td>\n",
       "      <td>17</td>\n",
       "      <td>11</td>\n",
       "    </tr>\n",
       "    <tr>\n",
       "      <th>Sambata</th>\n",
       "      <td>23</td>\n",
       "      <td>14</td>\n",
       "      <td>6</td>\n",
       "    </tr>\n",
       "    <tr>\n",
       "      <th>Duminica</th>\n",
       "      <td>27</td>\n",
       "      <td>18</td>\n",
       "      <td>9</td>\n",
       "    </tr>\n",
       "  </tbody>\n",
       "</table>\n",
       "</div>"
      ],
      "text/plain": [
       "          Cirese (kg)  Capsune (kg)  Zmeura (kg)\n",
       "Luni               20            14           23\n",
       "Marti              31            41           14\n",
       "Miercuri           15            21           34\n",
       "Joi                19            21           26\n",
       "Vineri             13            17           11\n",
       "Sambata            23            14            6\n",
       "Duminica           27            18            9"
      ]
     },
     "execution_count": 211,
     "metadata": {},
     "output_type": "execute_result"
    }
   ],
   "source": [
    "# pentru o vizualizare mai adecvata se va forma un dataframe pentru vanzari_cantitate\n",
    "vc_df= pd.DataFrame(vanzari_cantitate,\n",
    "                    index=['Luni', 'Marti', 'Miercuri', 'Joi', 'Vineri', 'Sambata', 'Duminica'],\n",
    "                    columns = ['Cirese (kg)', 'Capsune (kg)', 'Zmeura (kg)'])\n",
    "vc_df"
   ]
  },
  {
   "cell_type": "code",
   "execution_count": 210,
   "id": "93a46ffe",
   "metadata": {},
   "outputs": [],
   "source": [
    "# se creaza un array cu preturile per kg a fructelor:\n",
    "pret_kg = np.array([20, 25, 32])"
   ]
  },
  {
   "cell_type": "code",
   "execution_count": 216,
   "id": "4504b439",
   "metadata": {},
   "outputs": [
    {
     "data": {
      "text/plain": [
       "((3,), 1)"
      ]
     },
     "execution_count": 216,
     "metadata": {},
     "output_type": "execute_result"
    }
   ],
   "source": [
    "# se vizualizeaza forma si numarul de dimensiuni a lui pret_kg\n",
    "pret_kg.shape, pret_kg.ndim"
   ]
  },
  {
   "cell_type": "code",
   "execution_count": 218,
   "id": "5c0d12cb",
   "metadata": {},
   "outputs": [
    {
     "data": {
      "text/plain": [
       "array([[20, 25, 32]])"
      ]
     },
     "execution_count": 218,
     "metadata": {},
     "output_type": "execute_result"
    }
   ],
   "source": [
    "# se modifica forma lui pret_kg\n",
    "pret_kg_m = pret_kg.reshape(1,3)\n",
    "pret_kg_m"
   ]
  },
  {
   "cell_type": "code",
   "execution_count": 219,
   "id": "7591ab5c",
   "metadata": {},
   "outputs": [
    {
     "data": {
      "text/html": [
       "<div>\n",
       "<style scoped>\n",
       "    .dataframe tbody tr th:only-of-type {\n",
       "        vertical-align: middle;\n",
       "    }\n",
       "\n",
       "    .dataframe tbody tr th {\n",
       "        vertical-align: top;\n",
       "    }\n",
       "\n",
       "    .dataframe thead th {\n",
       "        text-align: right;\n",
       "    }\n",
       "</style>\n",
       "<table border=\"1\" class=\"dataframe\">\n",
       "  <thead>\n",
       "    <tr style=\"text-align: right;\">\n",
       "      <th></th>\n",
       "      <th>Cirese</th>\n",
       "      <th>Capsune</th>\n",
       "      <th>Zmeura</th>\n",
       "    </tr>\n",
       "  </thead>\n",
       "  <tbody>\n",
       "    <tr>\n",
       "      <th>Pret (lei/kg)</th>\n",
       "      <td>20</td>\n",
       "      <td>25</td>\n",
       "      <td>32</td>\n",
       "    </tr>\n",
       "  </tbody>\n",
       "</table>\n",
       "</div>"
      ],
      "text/plain": [
       "               Cirese  Capsune  Zmeura\n",
       "Pret (lei/kg)      20       25      32"
      ]
     },
     "execution_count": 219,
     "metadata": {},
     "output_type": "execute_result"
    }
   ],
   "source": [
    "# pentru o vizualizare mai adecvata se va forma un dataframe si pentru pret_kg \n",
    "pret_df= pd.DataFrame(pret_kg_m ,\n",
    "                    index=['Pret (lei/kg)'],\n",
    "                    columns = ['Cirese', 'Capsune', 'Zmeura'])\n",
    "pret_df"
   ]
  },
  {
   "cell_type": "code",
   "execution_count": 233,
   "id": "7a48b8d2",
   "metadata": {},
   "outputs": [
    {
     "data": {
      "text/plain": [
       "(3,)"
      ]
     },
     "execution_count": 233,
     "metadata": {},
     "output_type": "execute_result"
    }
   ],
   "source": [
    "# se vizualizeaza forma lui pret_kg\n",
    "pret_kg.shape"
   ]
  },
  {
   "cell_type": "code",
   "execution_count": 226,
   "id": "60000c8b",
   "metadata": {},
   "outputs": [
    {
     "data": {
      "text/plain": [
       "(7, 3)"
      ]
     },
     "execution_count": 226,
     "metadata": {},
     "output_type": "execute_result"
    }
   ],
   "source": [
    "# se vizualizeaza forma lui vanzari_cantitate\n",
    "vanzari_cantitate.shape"
   ]
  },
  {
   "cell_type": "code",
   "execution_count": 227,
   "id": "e0ef44ff",
   "metadata": {},
   "outputs": [
    {
     "data": {
      "text/plain": [
       "array([[20, 31, 15, 19, 13, 23, 27],\n",
       "       [14, 41, 21, 21, 17, 14, 18],\n",
       "       [23, 14, 34, 26, 11,  6,  9]])"
      ]
     },
     "execution_count": 227,
     "metadata": {},
     "output_type": "execute_result"
    }
   ],
   "source": [
    "# se determina transpusa lui vanzari_cantitate\n",
    "vanzari_cantitate_T = vanzari_cantitate.T\n",
    "vanzari_cantitate_T"
   ]
  },
  {
   "cell_type": "code",
   "execution_count": 228,
   "id": "3d5cfb78",
   "metadata": {},
   "outputs": [
    {
     "data": {
      "text/plain": [
       "(3, 7)"
      ]
     },
     "execution_count": 228,
     "metadata": {},
     "output_type": "execute_result"
    }
   ],
   "source": [
    "# se vizualizeaza forma lui vanzari_cantitate_T\n",
    "vanzari_cantitate_T.shape"
   ]
  },
  {
   "cell_type": "code",
   "execution_count": 231,
   "id": "e1d0b69b",
   "metadata": {},
   "outputs": [
    {
     "data": {
      "text/plain": [
       "array([1486, 2093, 1913, 1737, 1037, 1002, 1278])"
      ]
     },
     "execution_count": 231,
     "metadata": {},
     "output_type": "execute_result"
    }
   ],
   "source": [
    "# se determina suma zinica obtinuta utilizand operantul dot product\n",
    "suma_zilnica = pret_kg.dot (vanzari_cantitate_T)\n",
    "suma_zilnica"
   ]
  },
  {
   "cell_type": "code",
   "execution_count": 234,
   "id": "9f8c07c0",
   "metadata": {},
   "outputs": [
    {
     "data": {
      "text/html": [
       "<div>\n",
       "<style scoped>\n",
       "    .dataframe tbody tr th:only-of-type {\n",
       "        vertical-align: middle;\n",
       "    }\n",
       "\n",
       "    .dataframe tbody tr th {\n",
       "        vertical-align: top;\n",
       "    }\n",
       "\n",
       "    .dataframe thead th {\n",
       "        text-align: right;\n",
       "    }\n",
       "</style>\n",
       "<table border=\"1\" class=\"dataframe\">\n",
       "  <thead>\n",
       "    <tr style=\"text-align: right;\">\n",
       "      <th></th>\n",
       "      <th>Cirese (kg)</th>\n",
       "      <th>Capsune (kg)</th>\n",
       "      <th>Zmeura (kg)</th>\n",
       "      <th>Total (lei)</th>\n",
       "    </tr>\n",
       "  </thead>\n",
       "  <tbody>\n",
       "    <tr>\n",
       "      <th>Luni</th>\n",
       "      <td>20</td>\n",
       "      <td>14</td>\n",
       "      <td>23</td>\n",
       "      <td>1486</td>\n",
       "    </tr>\n",
       "    <tr>\n",
       "      <th>Marti</th>\n",
       "      <td>31</td>\n",
       "      <td>41</td>\n",
       "      <td>14</td>\n",
       "      <td>2093</td>\n",
       "    </tr>\n",
       "    <tr>\n",
       "      <th>Miercuri</th>\n",
       "      <td>15</td>\n",
       "      <td>21</td>\n",
       "      <td>34</td>\n",
       "      <td>1913</td>\n",
       "    </tr>\n",
       "    <tr>\n",
       "      <th>Joi</th>\n",
       "      <td>19</td>\n",
       "      <td>21</td>\n",
       "      <td>26</td>\n",
       "      <td>1737</td>\n",
       "    </tr>\n",
       "    <tr>\n",
       "      <th>Vineri</th>\n",
       "      <td>13</td>\n",
       "      <td>17</td>\n",
       "      <td>11</td>\n",
       "      <td>1037</td>\n",
       "    </tr>\n",
       "    <tr>\n",
       "      <th>Sambata</th>\n",
       "      <td>23</td>\n",
       "      <td>14</td>\n",
       "      <td>6</td>\n",
       "      <td>1002</td>\n",
       "    </tr>\n",
       "    <tr>\n",
       "      <th>Duminica</th>\n",
       "      <td>27</td>\n",
       "      <td>18</td>\n",
       "      <td>9</td>\n",
       "      <td>1278</td>\n",
       "    </tr>\n",
       "  </tbody>\n",
       "</table>\n",
       "</div>"
      ],
      "text/plain": [
       "          Cirese (kg)  Capsune (kg)  Zmeura (kg)  Total (lei)\n",
       "Luni               20            14           23         1486\n",
       "Marti              31            41           14         2093\n",
       "Miercuri           15            21           34         1913\n",
       "Joi                19            21           26         1737\n",
       "Vineri             13            17           11         1037\n",
       "Sambata            23            14            6         1002\n",
       "Duminica           27            18            9         1278"
      ]
     },
     "execution_count": 234,
     "metadata": {},
     "output_type": "execute_result"
    }
   ],
   "source": [
    "# Adaugarea unei noi coloane cu suma zilnica in vc_df\n",
    "vc_df['Total (lei)'] = suma_zilnica\n",
    "vc_df"
   ]
  },
  {
   "cell_type": "markdown",
   "id": "3b1d689d",
   "metadata": {},
   "source": [
    "# 6. Sortarea in array"
   ]
  },
  {
   "cell_type": "code",
   "execution_count": 246,
   "id": "f88ccb30",
   "metadata": {},
   "outputs": [
    {
     "data": {
      "text/plain": [
       "array([[5, 5, 7, 5, 8],\n",
       "       [9, 3, 2, 2, 3],\n",
       "       [9, 2, 7, 5, 4]])"
      ]
     },
     "execution_count": 246,
     "metadata": {},
     "output_type": "execute_result"
    }
   ],
   "source": [
    "# vizualizarea lui ar8\n",
    "ar8"
   ]
  },
  {
   "cell_type": "code",
   "execution_count": 247,
   "id": "34fb001a",
   "metadata": {},
   "outputs": [
    {
     "data": {
      "text/plain": [
       "array([[5, 5, 5, 7, 8],\n",
       "       [2, 2, 3, 3, 9],\n",
       "       [2, 4, 5, 7, 9]])"
      ]
     },
     "execution_count": 247,
     "metadata": {},
     "output_type": "execute_result"
    }
   ],
   "source": [
    "# sortarea elementelor lui ar8 pe linii\n",
    "np.sort(ar8, axis=1)"
   ]
  },
  {
   "cell_type": "code",
   "execution_count": 248,
   "id": "9d9e583e",
   "metadata": {},
   "outputs": [
    {
     "data": {
      "text/plain": [
       "array([[5, 2, 2, 2, 3],\n",
       "       [9, 3, 7, 5, 4],\n",
       "       [9, 5, 7, 5, 8]])"
      ]
     },
     "execution_count": 248,
     "metadata": {},
     "output_type": "execute_result"
    }
   ],
   "source": [
    "# sortarea elementelor lui ar8 pe coloane\n",
    "np.sort(ar8, axis=0)"
   ]
  },
  {
   "cell_type": "code",
   "execution_count": 252,
   "id": "0fc1230d",
   "metadata": {},
   "outputs": [
    {
     "data": {
      "text/plain": [
       "array([[0, 1, 3, 2, 4],\n",
       "       [2, 3, 1, 4, 0],\n",
       "       [1, 4, 3, 2, 0]], dtype=int64)"
      ]
     },
     "execution_count": 252,
     "metadata": {},
     "output_type": "execute_result"
    }
   ],
   "source": [
    "# obtinerea unui array cu indicii elementelor daca s-ar realiza sortarea pe linie\n",
    "np.argsort(ar8, axis=1)"
   ]
  },
  {
   "cell_type": "code",
   "execution_count": 253,
   "id": "cd749e7b",
   "metadata": {},
   "outputs": [
    {
     "data": {
      "text/plain": [
       "array([[0, 2, 1, 1, 1],\n",
       "       [1, 1, 0, 0, 2],\n",
       "       [2, 0, 2, 2, 0]], dtype=int64)"
      ]
     },
     "execution_count": 253,
     "metadata": {},
     "output_type": "execute_result"
    }
   ],
   "source": [
    "# obtinerea unui array cu indicii elementelor daca s-ar realiza sortarea pe linie\n",
    "np.argsort(ar8, axis=0)"
   ]
  },
  {
   "cell_type": "code",
   "execution_count": 256,
   "id": "d581fe55",
   "metadata": {},
   "outputs": [
    {
     "data": {
      "text/plain": [
       "array([0, 2, 1], dtype=int64)"
      ]
     },
     "execution_count": 256,
     "metadata": {},
     "output_type": "execute_result"
    }
   ],
   "source": [
    "# determinarea indexului celui mai mic element pe linii\n",
    "np.argmin(ar8, axis=1)"
   ]
  },
  {
   "cell_type": "code",
   "execution_count": 257,
   "id": "263cbb33",
   "metadata": {},
   "outputs": [
    {
     "data": {
      "text/plain": [
       "array([0, 2, 1, 1, 1], dtype=int64)"
      ]
     },
     "execution_count": 257,
     "metadata": {},
     "output_type": "execute_result"
    }
   ],
   "source": [
    "# determinarea indexului celui mai mic element pe coloane\n",
    "np.argmin(ar8, axis=0)"
   ]
  },
  {
   "cell_type": "code",
   "execution_count": 258,
   "id": "9256331e",
   "metadata": {},
   "outputs": [
    {
     "data": {
      "text/plain": [
       "7"
      ]
     },
     "execution_count": 258,
     "metadata": {},
     "output_type": "execute_result"
    }
   ],
   "source": [
    "# determinarea indexului celui mai mic element in array\n",
    "np.argmin(ar8)"
   ]
  },
  {
   "cell_type": "code",
   "execution_count": 259,
   "id": "c856d433",
   "metadata": {},
   "outputs": [
    {
     "data": {
      "text/plain": [
       "array([4, 0, 0], dtype=int64)"
      ]
     },
     "execution_count": 259,
     "metadata": {},
     "output_type": "execute_result"
    }
   ],
   "source": [
    "# determinarea indexului celui mai mare element pe linii\n",
    "np.argmax(ar8, axis=1)"
   ]
  },
  {
   "cell_type": "code",
   "execution_count": 260,
   "id": "474bbe81",
   "metadata": {},
   "outputs": [
    {
     "data": {
      "text/plain": [
       "array([1, 0, 0, 0, 0], dtype=int64)"
      ]
     },
     "execution_count": 260,
     "metadata": {},
     "output_type": "execute_result"
    }
   ],
   "source": [
    "# determinarea indexului celui mai mare element pe coloane\n",
    "np.argmax(ar8, axis=0)"
   ]
  },
  {
   "cell_type": "code",
   "execution_count": 261,
   "id": "343f412a",
   "metadata": {},
   "outputs": [
    {
     "data": {
      "text/plain": [
       "5"
      ]
     },
     "execution_count": 261,
     "metadata": {},
     "output_type": "execute_result"
    }
   ],
   "source": [
    "# determinarea indexului celui mai mare element in array\n",
    "np.argmax(ar8)"
   ]
  },
  {
   "cell_type": "markdown",
   "id": "950c83c2",
   "metadata": {},
   "source": [
    "# 7. Conversia imaginii in array"
   ]
  },
  {
   "cell_type": "markdown",
   "id": "9f334940",
   "metadata": {},
   "source": [
    "In exemplu de mai jos se va realiza conversia imaginii rosa_image.jpg in array adica conversia imaginii in valori numerice\n",
    "\n",
    "\n",
    "<img src=\"trandafir_image.jpg\"/>"
   ]
  },
  {
   "cell_type": "code",
   "execution_count": 263,
   "id": "05e53d65",
   "metadata": {},
   "outputs": [],
   "source": [
    "# importul bibliotecii corespunzatoare\n",
    "from matplotlib.image import imread"
   ]
  },
  {
   "cell_type": "code",
   "execution_count": 271,
   "id": "96f96c11",
   "metadata": {},
   "outputs": [
    {
     "data": {
      "text/plain": [
       "array([[[176,  78,  91],\n",
       "        [176,  80,  92],\n",
       "        [176,  83,  94],\n",
       "        ...,\n",
       "        [165, 171, 161],\n",
       "        [164, 170, 160],\n",
       "        [163, 169, 159]],\n",
       "\n",
       "       [[175,  77,  90],\n",
       "        [175,  79,  91],\n",
       "        [175,  82,  93],\n",
       "        ...,\n",
       "        [164, 170, 160],\n",
       "        [163, 169, 159],\n",
       "        [162, 168, 158]],\n",
       "\n",
       "       [[172,  74,  87],\n",
       "        [174,  76,  89],\n",
       "        [174,  78,  90],\n",
       "        ...,\n",
       "        [161, 167, 157],\n",
       "        [160, 166, 156],\n",
       "        [159, 165, 155]],\n",
       "\n",
       "       ...,\n",
       "\n",
       "       [[ 57,  81,  31],\n",
       "        [ 58,  82,  32],\n",
       "        [ 60,  84,  34],\n",
       "        ...,\n",
       "        [ 58,  82,  60],\n",
       "        [ 58,  82,  60],\n",
       "        [ 58,  82,  60]],\n",
       "\n",
       "       [[ 57,  84,  33],\n",
       "        [ 58,  85,  34],\n",
       "        [ 59,  86,  35],\n",
       "        ...,\n",
       "        [ 62,  87,  65],\n",
       "        [ 62,  87,  65],\n",
       "        [ 62,  87,  65]],\n",
       "\n",
       "       [[ 58,  85,  34],\n",
       "        [ 59,  86,  35],\n",
       "        [ 60,  87,  36],\n",
       "        ...,\n",
       "        [ 65,  90,  68],\n",
       "        [ 65,  90,  68],\n",
       "        [ 65,  90,  68]]], dtype=uint8)"
      ]
     },
     "execution_count": 271,
     "metadata": {},
     "output_type": "execute_result"
    }
   ],
   "source": [
    "# conversia imaginii in array specificat calea catre imagine\n",
    "trandafir = imread(\"trandafir_image.jpg\")\n",
    "trandafir"
   ]
  },
  {
   "cell_type": "code",
   "execution_count": 265,
   "id": "6e6d54db",
   "metadata": {},
   "outputs": [
    {
     "data": {
      "text/plain": [
       "numpy.ndarray"
      ]
     },
     "execution_count": 265,
     "metadata": {},
     "output_type": "execute_result"
    }
   ],
   "source": [
    "# vizualizarea tipului lui trandafir\n",
    "type(trandafir)"
   ]
  },
  {
   "cell_type": "code",
   "execution_count": 266,
   "id": "9c63f735",
   "metadata": {},
   "outputs": [
    {
     "data": {
      "text/plain": [
       "(447, 600, 3)"
      ]
     },
     "execution_count": 266,
     "metadata": {},
     "output_type": "execute_result"
    }
   ],
   "source": [
    "# vizualizarea formei lui trandafir\n",
    "trandafir.shape"
   ]
  },
  {
   "cell_type": "code",
   "execution_count": 267,
   "id": "8112c656",
   "metadata": {},
   "outputs": [
    {
     "data": {
      "text/plain": [
       "3"
      ]
     },
     "execution_count": 267,
     "metadata": {},
     "output_type": "execute_result"
    }
   ],
   "source": [
    "# vizualizarea numarului dimensiunii lui trandafir\n",
    "trandafir.ndim"
   ]
  },
  {
   "cell_type": "code",
   "execution_count": 268,
   "id": "898f9821",
   "metadata": {},
   "outputs": [
    {
     "data": {
      "text/plain": [
       "804600"
      ]
     },
     "execution_count": 268,
     "metadata": {},
     "output_type": "execute_result"
    }
   ],
   "source": [
    "# vizualizarea numarului de elemente in trandafir\n",
    "trandafir.size"
   ]
  },
  {
   "cell_type": "code",
   "execution_count": 270,
   "id": "e2ebeabc",
   "metadata": {},
   "outputs": [
    {
     "data": {
      "text/plain": [
       "dtype('uint8')"
      ]
     },
     "execution_count": 270,
     "metadata": {},
     "output_type": "execute_result"
    }
   ],
   "source": [
    "# vizualizarea tipului elementelor in trandafir\n",
    "trandafir.dtype"
   ]
  },
  {
   "cell_type": "code",
   "execution_count": null,
   "id": "1f0a091d",
   "metadata": {},
   "outputs": [],
   "source": []
  }
 ],
 "metadata": {
  "kernelspec": {
   "display_name": "Python 3",
   "language": "python",
   "name": "python3"
  },
  "language_info": {
   "codemirror_mode": {
    "name": "ipython",
    "version": 3
   },
   "file_extension": ".py",
   "mimetype": "text/x-python",
   "name": "python",
   "nbconvert_exporter": "python",
   "pygments_lexer": "ipython3",
   "version": "3.9.4"
  }
 },
 "nbformat": 4,
 "nbformat_minor": 5
}
